{
 "cells": [
  {
   "cell_type": "markdown",
   "metadata": {},
   "source": [
    "# Do Markets Evoke Egoism? A Study on the Framing Effects of Market Situations  \n",
    "***********************************"
   ]
  },
  {
   "cell_type": "code",
   "execution_count": 1,
   "metadata": {},
   "outputs": [],
   "source": [
    "from my_auxiliary import *"
   ]
  },
  {
   "cell_type": "markdown",
   "metadata": {},
   "source": [
    "This notebook contains the code for the results in my Master Thesis."
   ]
  },
  {
   "cell_type": "markdown",
   "metadata": {},
   "source": [
    "## Descriptive Statistics\n",
    "----------------"
   ]
  },
  {
   "cell_type": "code",
   "execution_count": 3,
   "metadata": {},
   "outputs": [
    {
     "data": {
      "text/html": [
       "<div>\n",
       "<style scoped>\n",
       "    .dataframe tbody tr th:only-of-type {\n",
       "        vertical-align: middle;\n",
       "    }\n",
       "\n",
       "    .dataframe tbody tr th {\n",
       "        vertical-align: top;\n",
       "    }\n",
       "\n",
       "    .dataframe thead th {\n",
       "        text-align: right;\n",
       "    }\n",
       "</style>\n",
       "<table border=\"1\" class=\"dataframe\">\n",
       "  <thead>\n",
       "    <tr style=\"text-align: right;\">\n",
       "      <th></th>\n",
       "      <th>Observations</th>\n",
       "      <th>Type</th>\n",
       "      <th>Summe</th>\n",
       "      <th>Mean</th>\n",
       "    </tr>\n",
       "  </thead>\n",
       "  <tbody>\n",
       "    <tr>\n",
       "      <th>Markt</th>\n",
       "      <td>1778</td>\n",
       "      <td>Dummy</td>\n",
       "      <td>857.000000</td>\n",
       "      <td>0.482002</td>\n",
       "    </tr>\n",
       "    <tr>\n",
       "      <th>Dec</th>\n",
       "      <td>1778</td>\n",
       "      <td>Dummy</td>\n",
       "      <td>1391.000000</td>\n",
       "      <td>0.782340</td>\n",
       "    </tr>\n",
       "    <tr>\n",
       "      <th>FMIS_Index</th>\n",
       "      <td>1778</td>\n",
       "      <td>Scale 1-11</td>\n",
       "      <td>8714.333333</td>\n",
       "      <td>4.901200</td>\n",
       "    </tr>\n",
       "    <tr>\n",
       "      <th>Altru_1</th>\n",
       "      <td>1778</td>\n",
       "      <td>Scale 1-11</td>\n",
       "      <td>12880.000000</td>\n",
       "      <td>7.244094</td>\n",
       "    </tr>\n",
       "    <tr>\n",
       "      <th>Altru_2</th>\n",
       "      <td>1778</td>\n",
       "      <td>Integer 0-1000</td>\n",
       "      <td>323539.000000</td>\n",
       "      <td>181.967942</td>\n",
       "    </tr>\n",
       "    <tr>\n",
       "      <th>weiblich</th>\n",
       "      <td>1767</td>\n",
       "      <td>Dummy</td>\n",
       "      <td>1144.000000</td>\n",
       "      <td>0.647425</td>\n",
       "    </tr>\n",
       "    <tr>\n",
       "      <th>Alter</th>\n",
       "      <td>1771</td>\n",
       "      <td>Ordered Groups 1-7</td>\n",
       "      <td>4398.000000</td>\n",
       "      <td>2.483343</td>\n",
       "    </tr>\n",
       "    <tr>\n",
       "      <th>Abschluss</th>\n",
       "      <td>1770</td>\n",
       "      <td>Groups</td>\n",
       "      <td>10083.000000</td>\n",
       "      <td>5.696610</td>\n",
       "    </tr>\n",
       "    <tr>\n",
       "      <th>Tätigkeit</th>\n",
       "      <td>1759</td>\n",
       "      <td>Groups</td>\n",
       "      <td>2935.000000</td>\n",
       "      <td>1.668562</td>\n",
       "    </tr>\n",
       "    <tr>\n",
       "      <th>Berufsfeld</th>\n",
       "      <td>1661</td>\n",
       "      <td>Groups</td>\n",
       "      <td>8012.000000</td>\n",
       "      <td>4.823600</td>\n",
       "    </tr>\n",
       "    <tr>\n",
       "      <th>Studium</th>\n",
       "      <td>1658</td>\n",
       "      <td>Groups</td>\n",
       "      <td>8239.000000</td>\n",
       "      <td>4.969240</td>\n",
       "    </tr>\n",
       "    <tr>\n",
       "      <th>Geld</th>\n",
       "      <td>1764</td>\n",
       "      <td>Ordered Groups 1-8</td>\n",
       "      <td>4380.000000</td>\n",
       "      <td>2.482993</td>\n",
       "    </tr>\n",
       "    <tr>\n",
       "      <th>Marktgeschehen</th>\n",
       "      <td>1771</td>\n",
       "      <td>Scale 1-7</td>\n",
       "      <td>6615.000000</td>\n",
       "      <td>3.735178</td>\n",
       "    </tr>\n",
       "    <tr>\n",
       "      <th>pol_rechts</th>\n",
       "      <td>1765</td>\n",
       "      <td>Scale 1-7</td>\n",
       "      <td>5822.000000</td>\n",
       "      <td>3.298584</td>\n",
       "    </tr>\n",
       "    <tr>\n",
       "      <th>Gespendet</th>\n",
       "      <td>1775</td>\n",
       "      <td>Dummy</td>\n",
       "      <td>1593.000000</td>\n",
       "      <td>0.897465</td>\n",
       "    </tr>\n",
       "    <tr>\n",
       "      <th>Müll</th>\n",
       "      <td>1774</td>\n",
       "      <td>Dummy</td>\n",
       "      <td>198.000000</td>\n",
       "      <td>0.111612</td>\n",
       "    </tr>\n",
       "    <tr>\n",
       "      <th>Amazon</th>\n",
       "      <td>1776</td>\n",
       "      <td>Dummy</td>\n",
       "      <td>173.000000</td>\n",
       "      <td>0.097410</td>\n",
       "    </tr>\n",
       "    <tr>\n",
       "      <th>Student</th>\n",
       "      <td>1644</td>\n",
       "      <td>Dummy</td>\n",
       "      <td>1125.000000</td>\n",
       "      <td>0.684307</td>\n",
       "    </tr>\n",
       "    <tr>\n",
       "      <th>Working</th>\n",
       "      <td>1759</td>\n",
       "      <td>Dummy</td>\n",
       "      <td>533.000000</td>\n",
       "      <td>0.303013</td>\n",
       "    </tr>\n",
       "    <tr>\n",
       "      <th>Akademiker</th>\n",
       "      <td>1731</td>\n",
       "      <td>Dummy</td>\n",
       "      <td>1575.000000</td>\n",
       "      <td>0.909879</td>\n",
       "    </tr>\n",
       "    <tr>\n",
       "      <th>Selbst</th>\n",
       "      <td>1759</td>\n",
       "      <td>Dummy</td>\n",
       "      <td>62.000000</td>\n",
       "      <td>0.035247</td>\n",
       "    </tr>\n",
       "    <tr>\n",
       "      <th>Sozial</th>\n",
       "      <td>1661</td>\n",
       "      <td>Dummy</td>\n",
       "      <td>381.000000</td>\n",
       "      <td>0.229380</td>\n",
       "    </tr>\n",
       "    <tr>\n",
       "      <th>Marktberuf</th>\n",
       "      <td>1661</td>\n",
       "      <td>Dummy</td>\n",
       "      <td>611.000000</td>\n",
       "      <td>0.367851</td>\n",
       "    </tr>\n",
       "    <tr>\n",
       "      <th>WiStu</th>\n",
       "      <td>1658</td>\n",
       "      <td>Dummy</td>\n",
       "      <td>295.000000</td>\n",
       "      <td>0.177925</td>\n",
       "    </tr>\n",
       "    <tr>\n",
       "      <th>SoStu</th>\n",
       "      <td>1658</td>\n",
       "      <td>Dummy</td>\n",
       "      <td>335.000000</td>\n",
       "      <td>0.202051</td>\n",
       "    </tr>\n",
       "    <tr>\n",
       "      <th>NatStu</th>\n",
       "      <td>1658</td>\n",
       "      <td>Dummy</td>\n",
       "      <td>559.000000</td>\n",
       "      <td>0.337153</td>\n",
       "    </tr>\n",
       "    <tr>\n",
       "      <th>JurStu</th>\n",
       "      <td>1658</td>\n",
       "      <td>Dummy</td>\n",
       "      <td>266.000000</td>\n",
       "      <td>0.160434</td>\n",
       "    </tr>\n",
       "    <tr>\n",
       "      <th>NoStu</th>\n",
       "      <td>1658</td>\n",
       "      <td>Dummy</td>\n",
       "      <td>203.000000</td>\n",
       "      <td>0.122437</td>\n",
       "    </tr>\n",
       "  </tbody>\n",
       "</table>\n",
       "</div>"
      ],
      "text/plain": [
       "                Observations                Type          Summe        Mean\n",
       "Markt                   1778               Dummy     857.000000    0.482002\n",
       "Dec                     1778               Dummy    1391.000000    0.782340\n",
       "FMIS_Index              1778          Scale 1-11    8714.333333    4.901200\n",
       "Altru_1                 1778          Scale 1-11   12880.000000    7.244094\n",
       "Altru_2                 1778      Integer 0-1000  323539.000000  181.967942\n",
       "weiblich                1767               Dummy    1144.000000    0.647425\n",
       "Alter                   1771  Ordered Groups 1-7    4398.000000    2.483343\n",
       "Abschluss               1770              Groups   10083.000000    5.696610\n",
       "Tätigkeit               1759              Groups    2935.000000    1.668562\n",
       "Berufsfeld              1661              Groups    8012.000000    4.823600\n",
       "Studium                 1658              Groups    8239.000000    4.969240\n",
       "Geld                    1764  Ordered Groups 1-8    4380.000000    2.482993\n",
       "Marktgeschehen          1771           Scale 1-7    6615.000000    3.735178\n",
       "pol_rechts              1765           Scale 1-7    5822.000000    3.298584\n",
       "Gespendet               1775               Dummy    1593.000000    0.897465\n",
       "Müll                    1774               Dummy     198.000000    0.111612\n",
       "Amazon                  1776               Dummy     173.000000    0.097410\n",
       "Student                 1644               Dummy    1125.000000    0.684307\n",
       "Working                 1759               Dummy     533.000000    0.303013\n",
       "Akademiker              1731               Dummy    1575.000000    0.909879\n",
       "Selbst                  1759               Dummy      62.000000    0.035247\n",
       "Sozial                  1661               Dummy     381.000000    0.229380\n",
       "Marktberuf              1661               Dummy     611.000000    0.367851\n",
       "WiStu                   1658               Dummy     295.000000    0.177925\n",
       "SoStu                   1658               Dummy     335.000000    0.202051\n",
       "NatStu                  1658               Dummy     559.000000    0.337153\n",
       "JurStu                  1658               Dummy     266.000000    0.160434\n",
       "NoStu                   1658               Dummy     203.000000    0.122437"
      ]
     },
     "execution_count": 3,
     "metadata": {},
     "output_type": "execute_result"
    }
   ],
   "source": [
    "Sum_Var()"
   ]
  },
  {
   "cell_type": "code",
   "execution_count": 4,
   "metadata": {
    "scrolled": false
   },
   "outputs": [
    {
     "name": "stdout",
     "output_type": "stream",
     "text": [
      "Percentage of participanst who are below 25 years: 0.590626764539808\n",
      "Percentage of all Müll= 1 participanst who decide unmorally: 0.2676767676767677\n",
      "Percentage of all Müll= 1 participanst who decide morally: 0.7323232323232324\n"
     ]
    }
   ],
   "source": [
    "p_Alter=df['Alter'][(df['Alter']==1)|(df['Alter']==2)].count()/df['Alter'].count()\n",
    "print(\"Percentage of participanst who are below 25 years: \" + str(p_Alter))\n",
    "#----------------------------------------------\n",
    "p_Müllunmoral=df['Müll'][(df['Dec']==0)].sum()/df['Müll'].sum()\n",
    "p_Müllmoral=df['Müll'][(df['Dec']==1)].sum()/df['Müll'].sum()\n",
    "print(\"Percentage of all Müll= 1 participanst who decide unmorally: \" + str(p_Müllunmoral))\n",
    "print(\"Percentage of all Müll= 1 participanst who decide morally: \" + str(p_Müllmoral))"
   ]
  },
  {
   "cell_type": "code",
   "execution_count": 5,
   "metadata": {},
   "outputs": [
    {
     "data": {
      "image/png": "[encoded data removed]",
      "text/plain": [
       "<Figure size 288x216 with 1 Axes>"
      ]
     },
     "metadata": {
      "needs_background": "light"
     },
     "output_type": "display_data"
    }
   ],
   "source": [
    "barchart(df)"
   ]
  },
  {
   "cell_type": "code",
   "execution_count": 6,
   "metadata": {},
   "outputs": [
    {
     "data": {
      "text/html": [
       "<div>\n",
       "<style scoped>\n",
       "    .dataframe tbody tr th:only-of-type {\n",
       "        vertical-align: middle;\n",
       "    }\n",
       "\n",
       "    .dataframe tbody tr th {\n",
       "        vertical-align: top;\n",
       "    }\n",
       "\n",
       "    .dataframe thead th {\n",
       "        text-align: right;\n",
       "    }\n",
       "</style>\n",
       "<table border=\"1\" class=\"dataframe\">\n",
       "  <thead>\n",
       "    <tr style=\"text-align: right;\">\n",
       "      <th></th>\n",
       "      <th>0</th>\n",
       "      <th>1</th>\n",
       "    </tr>\n",
       "  </thead>\n",
       "  <tbody>\n",
       "    <tr>\n",
       "      <th>0</th>\n",
       "      <td>Wirtschaft, Verwaltung</td>\n",
       "      <td>1</td>\n",
       "    </tr>\n",
       "    <tr>\n",
       "      <th>1</th>\n",
       "      <td>Soziales, PÃ¤dagogik</td>\n",
       "      <td>2</td>\n",
       "    </tr>\n",
       "    <tr>\n",
       "      <th>2</th>\n",
       "      <td>Dienstleistung</td>\n",
       "      <td>3</td>\n",
       "    </tr>\n",
       "    <tr>\n",
       "      <th>3</th>\n",
       "      <td>Gesundheit</td>\n",
       "      <td>4</td>\n",
       "    </tr>\n",
       "    <tr>\n",
       "      <th>4</th>\n",
       "      <td>Metall, Maschinenbau</td>\n",
       "      <td>5</td>\n",
       "    </tr>\n",
       "    <tr>\n",
       "      <th>5</th>\n",
       "      <td>Medien</td>\n",
       "      <td>6</td>\n",
       "    </tr>\n",
       "    <tr>\n",
       "      <th>6</th>\n",
       "      <td>IT, Computer</td>\n",
       "      <td>7</td>\n",
       "    </tr>\n",
       "    <tr>\n",
       "      <th>7</th>\n",
       "      <td>Naturwissenschaften, Mathematik</td>\n",
       "      <td>8</td>\n",
       "    </tr>\n",
       "    <tr>\n",
       "      <th>8</th>\n",
       "      <td>Verkehr, Logistik</td>\n",
       "      <td>9</td>\n",
       "    </tr>\n",
       "    <tr>\n",
       "      <th>9</th>\n",
       "      <td>Technik, Technologiefelder</td>\n",
       "      <td>10</td>\n",
       "    </tr>\n",
       "    <tr>\n",
       "      <th>10</th>\n",
       "      <td>Kunst, Kultur, Gestaltung</td>\n",
       "      <td>11</td>\n",
       "    </tr>\n",
       "    <tr>\n",
       "      <th>11</th>\n",
       "      <td>Landwirtschaft, Natur, Umwelt</td>\n",
       "      <td>12</td>\n",
       "    </tr>\n",
       "    <tr>\n",
       "      <th>12</th>\n",
       "      <td>Elektro</td>\n",
       "      <td>13</td>\n",
       "    </tr>\n",
       "    <tr>\n",
       "      <th>13</th>\n",
       "      <td>Bau, Architektur, Vermessung</td>\n",
       "      <td>14</td>\n",
       "    </tr>\n",
       "    <tr>\n",
       "      <th>14</th>\n",
       "      <td>Produktion, Fertigung</td>\n",
       "      <td>15</td>\n",
       "    </tr>\n",
       "  </tbody>\n",
       "</table>\n",
       "</div>"
      ],
      "text/plain": [
       "                                  0   1\n",
       "0            Wirtschaft, Verwaltung   1\n",
       "1              Soziales, PÃ¤dagogik   2\n",
       "2                    Dienstleistung   3\n",
       "3                        Gesundheit   4\n",
       "4              Metall, Maschinenbau   5\n",
       "5                            Medien   6\n",
       "6                      IT, Computer   7\n",
       "7   Naturwissenschaften, Mathematik   8\n",
       "8                 Verkehr, Logistik   9\n",
       "9        Technik, Technologiefelder  10\n",
       "10        Kunst, Kultur, Gestaltung  11\n",
       "11    Landwirtschaft, Natur, Umwelt  12\n",
       "12                          Elektro  13\n",
       "13     Bau, Architektur, Vermessung  14\n",
       "14            Produktion, Fertigung  15"
      ]
     },
     "execution_count": 6,
     "metadata": {},
     "output_type": "execute_result"
    }
   ],
   "source": [
    "#Coding of the classified variables:\n",
    "#-----------------------------------------\n",
    "#df_Alter \n",
    "#df_Abschluss\n",
    "#df_Tätigkeit\n",
    "df_Berufsfeld\n",
    "#df_Studium\n",
    "#df_Einkommen"
   ]
  },
  {
   "cell_type": "markdown",
   "metadata": {},
   "source": [
    "## Results - Market Framing\n",
    "------------"
   ]
  },
  {
   "cell_type": "code",
   "execution_count": 7,
   "metadata": {
    "scrolled": false
   },
   "outputs": [
    {
     "name": "stdout",
     "output_type": "stream",
     "text": [
      "Table 1: Percentage of people deciding to donate\n"
     ]
    },
    {
     "data": {
      "text/html": [
       "<div>\n",
       "<style scoped>\n",
       "    .dataframe tbody tr th:only-of-type {\n",
       "        vertical-align: middle;\n",
       "    }\n",
       "\n",
       "    .dataframe tbody tr th {\n",
       "        vertical-align: top;\n",
       "    }\n",
       "\n",
       "    .dataframe thead th {\n",
       "        text-align: right;\n",
       "    }\n",
       "</style>\n",
       "<table border=\"1\" class=\"dataframe\">\n",
       "  <thead>\n",
       "    <tr style=\"text-align: right;\">\n",
       "      <th></th>\n",
       "      <th>Baseline</th>\n",
       "      <th>Market</th>\n",
       "      <th>Mann-Whitney-U</th>\n",
       "      <th>p-Value</th>\n",
       "    </tr>\n",
       "  </thead>\n",
       "  <tbody>\n",
       "    <tr>\n",
       "      <th>Total</th>\n",
       "      <td>78.067318</td>\n",
       "      <td>78.413069</td>\n",
       "      <td>393284.0</td>\n",
       "      <td>0.859964</td>\n",
       "    </tr>\n",
       "    <tr>\n",
       "      <th>w/o Amazon-despisers</th>\n",
       "      <td>75.779376</td>\n",
       "      <td>75.942783</td>\n",
       "      <td>320149.0</td>\n",
       "      <td>0.939197</td>\n",
       "    </tr>\n",
       "    <tr>\n",
       "      <th>w/o waste perfectionists</th>\n",
       "      <td>78.276699</td>\n",
       "      <td>79.654255</td>\n",
       "      <td>305556.0</td>\n",
       "      <td>0.503136</td>\n",
       "    </tr>\n",
       "    <tr>\n",
       "      <th>w/o both of the above</th>\n",
       "      <td>75.973154</td>\n",
       "      <td>77.198212</td>\n",
       "      <td>246885.5</td>\n",
       "      <td>0.587113</td>\n",
       "    </tr>\n",
       "  </tbody>\n",
       "</table>\n",
       "</div>"
      ],
      "text/plain": [
       "                           Baseline     Market  Mann-Whitney-U   p-Value\n",
       "Total                     78.067318  78.413069        393284.0  0.859964\n",
       "w/o Amazon-despisers      75.779376  75.942783        320149.0  0.939197\n",
       "w/o waste perfectionists  78.276699  79.654255        305556.0  0.503136\n",
       "w/o both of the above     75.973154  77.198212        246885.5  0.587113"
      ]
     },
     "execution_count": 7,
     "metadata": {},
     "output_type": "execute_result"
    }
   ],
   "source": [
    "sum_dfs()"
   ]
  },
  {
   "cell_type": "markdown",
   "metadata": {},
   "source": [
    "### Table 3"
   ]
  },
  {
   "cell_type": "code",
   "execution_count": 8,
   "metadata": {
    "scrolled": true
   },
   "outputs": [
    {
     "name": "stdout",
     "output_type": "stream",
     "text": [
      "Optimization terminated successfully.\n",
      "         Current function value: 0.523922\n",
      "         Iterations 5\n",
      "                          Probit Regression Results                           \n",
      "==============================================================================\n",
      "Dep. Variable:                    Dec   No. Observations:                 1778\n",
      "Model:                         Probit   Df Residuals:                     1776\n",
      "Method:                           MLE   Df Model:                            1\n",
      "Date:                Fri, 07 Aug 2020   Pseudo R-squ.:               1.673e-05\n",
      "Time:                        19:12:46   Log-Likelihood:                -931.53\n",
      "converged:                       True   LL-Null:                       -931.55\n",
      "Covariance Type:            nonrobust   LLR p-value:                    0.8599\n",
      "==============================================================================\n",
      "                 coef    std err          z      P>|z|      [0.025      0.975]\n",
      "------------------------------------------------------------------------------\n",
      "Intercept      0.7745      0.046     16.789      0.000       0.684       0.865\n",
      "Markt          0.0118      0.067      0.177      0.860      -0.119       0.142\n",
      "==============================================================================\n"
     ]
    }
   ],
   "source": [
    "Reg31() #column 1"
   ]
  },
  {
   "cell_type": "code",
   "execution_count": 9,
   "metadata": {},
   "outputs": [
    {
     "name": "stdout",
     "output_type": "stream",
     "text": [
      "Warning: Maximum number of iterations has been exceeded.\n",
      "         Current function value: 0.498874\n",
      "         Iterations: 35\n",
      "                          Probit Regression Results                           \n",
      "==============================================================================\n",
      "Dep. Variable:                    Dec   No. Observations:                 1776\n",
      "Model:                         Probit   Df Residuals:                     1774\n",
      "Method:                           MLE   Df Model:                            1\n",
      "Date:                Fri, 07 Aug 2020   Pseudo R-squ.:                 0.04839\n",
      "Time:                        19:12:46   Log-Likelihood:                -886.00\n",
      "converged:                      False   LL-Null:                       -931.06\n",
      "Covariance Type:            nonrobust   LLR p-value:                 2.248e-21\n",
      "==============================================================================\n",
      "                 coef    std err          z      P>|z|      [0.025      0.975]\n",
      "------------------------------------------------------------------------------\n",
      "Intercept      0.7017      0.034     20.475      0.000       0.635       0.769\n",
      "Amazon         6.1862   6494.918      0.001      0.999   -1.27e+04    1.27e+04\n",
      "==============================================================================\n"
     ]
    },
    {
     "name": "stderr",
     "output_type": "stream",
     "text": [
      "C:\\ProgramData\\Anaconda3\\lib\\site-packages\\statsmodels\\base\\model.py:568: ConvergenceWarning: Maximum Likelihood optimization failed to converge. Check mle_retvals\n",
      "  \"Check mle_retvals\", ConvergenceWarning)\n"
     ]
    }
   ],
   "source": [
    "# Regression on Amazon does not converge\n",
    "y, X = dmatrices('Dec ~ Amazon', df, return_type = 'dataframe')\n",
    "probit = sm.Probit(y, X, missing='drop')\n",
    "res=probit.fit()\n",
    "print(res.summary())"
   ]
  },
  {
   "cell_type": "code",
   "execution_count": 10,
   "metadata": {
    "scrolled": false
   },
   "outputs": [
    {
     "name": "stdout",
     "output_type": "stream",
     "text": [
      "Optimization terminated successfully.\n",
      "         Current function value: 0.473375\n",
      "         Iterations 6\n",
      "                          Probit Regression Results                           \n",
      "==============================================================================\n",
      "Dep. Variable:                    Dec   No. Observations:                 1589\n",
      "Model:                         Probit   Df Residuals:                     1583\n",
      "Method:                           MLE   Df Model:                            5\n",
      "Date:                Fri, 07 Aug 2020   Pseudo R-squ.:                  0.1428\n",
      "Time:                        19:12:46   Log-Likelihood:                -752.19\n",
      "converged:                       True   LL-Null:                       -877.55\n",
      "Covariance Type:            nonrobust   LLR p-value:                 3.859e-52\n",
      "==============================================================================\n",
      "                 coef    std err          z      P>|z|      [0.025      0.975]\n",
      "------------------------------------------------------------------------------\n",
      "Intercept     -0.7296      0.137     -5.313      0.000      -0.999      -0.460\n",
      "Markt         -0.0084      0.074     -0.114      0.909      -0.154       0.137\n",
      "Altru_1        0.1874      0.018     10.341      0.000       0.152       0.223\n",
      "Altru_2        0.0016      0.000      6.143      0.000       0.001       0.002\n",
      "Geld          -0.0201      0.024     -0.835      0.403      -0.067       0.027\n",
      "Müll          -0.2174      0.112     -1.942      0.052      -0.437       0.002\n",
      "==============================================================================\n"
     ]
    }
   ],
   "source": [
    "Reg32() #column 2"
   ]
  },
  {
   "cell_type": "code",
   "execution_count": 11,
   "metadata": {
    "scrolled": true
   },
   "outputs": [
    {
     "name": "stdout",
     "output_type": "stream",
     "text": [
      "Optimization terminated successfully.\n",
      "         Current function value: 0.476168\n",
      "         Iterations 6\n",
      "                          Probit Regression Results                           \n",
      "==============================================================================\n",
      "Dep. Variable:                    Dec   No. Observations:                 1603\n",
      "Model:                         Probit   Df Residuals:                     1599\n",
      "Method:                           MLE   Df Model:                            3\n",
      "Date:                Fri, 07 Aug 2020   Pseudo R-squ.:                  0.1385\n",
      "Time:                        19:12:47   Log-Likelihood:                -763.30\n",
      "converged:                       True   LL-Null:                       -886.00\n",
      "Covariance Type:            nonrobust   LLR p-value:                 6.447e-53\n",
      "==============================================================================\n",
      "                 coef    std err          z      P>|z|      [0.025      0.975]\n",
      "------------------------------------------------------------------------------\n",
      "Intercept     -0.8066      0.125     -6.474      0.000      -1.051      -0.562\n",
      "Markt         -0.0048      0.073     -0.065      0.948      -0.149       0.139\n",
      "Altru_1        0.1887      0.018     10.488      0.000       0.153       0.224\n",
      "Altru_2        0.0015      0.000      5.898      0.000       0.001       0.002\n",
      "==============================================================================\n"
     ]
    }
   ],
   "source": [
    "Reg33() #column 3"
   ]
  },
  {
   "cell_type": "markdown",
   "metadata": {},
   "source": [
    "### Table 4"
   ]
  },
  {
   "cell_type": "code",
   "execution_count": 12,
   "metadata": {
    "scrolled": true
   },
   "outputs": [
    {
     "name": "stdout",
     "output_type": "stream",
     "text": [
      "Optimization terminated successfully.\n",
      "         Current function value: 0.516042\n",
      "         Iterations 5\n",
      "                          Probit Regression Results                           \n",
      "==============================================================================\n",
      "Dep. Variable:                    Dec   No. Observations:                 1778\n",
      "Model:                         Probit   Df Residuals:                     1774\n",
      "Method:                           MLE   Df Model:                            3\n",
      "Date:                Fri, 07 Aug 2020   Pseudo R-squ.:                 0.01506\n",
      "Time:                        19:12:47   Log-Likelihood:                -917.52\n",
      "converged:                       True   LL-Null:                       -931.55\n",
      "Covariance Type:            nonrobust   LLR p-value:                 3.540e-06\n",
      "====================================================================================\n",
      "                       coef    std err          z      P>|z|      [0.025      0.975]\n",
      "------------------------------------------------------------------------------------\n",
      "Intercept            1.0994      0.161      6.846      0.000       0.785       1.414\n",
      "FMIS_Index          -0.0661      0.031     -2.124      0.034      -0.127      -0.005\n",
      "Markt                0.4679      0.235      1.988      0.047       0.007       0.929\n",
      "FMIS_Index:Markt    -0.0878      0.045     -1.962      0.050      -0.175   -7.39e-05\n",
      "====================================================================================\n"
     ]
    }
   ],
   "source": [
    "Reg41() #column 1"
   ]
  },
  {
   "cell_type": "code",
   "execution_count": 13,
   "metadata": {
    "scrolled": true
   },
   "outputs": [
    {
     "name": "stdout",
     "output_type": "stream",
     "text": [
      "Optimization terminated successfully.\n",
      "         Current function value: 0.545556\n",
      "         Iterations 5\n",
      "                          Probit Regression Results                           \n",
      "==============================================================================\n",
      "Dep. Variable:                    Dec   No. Observations:                 1603\n",
      "Model:                         Probit   Df Residuals:                     1599\n",
      "Method:                           MLE   Df Model:                            3\n",
      "Date:                Fri, 07 Aug 2020   Pseudo R-squ.:                 0.01295\n",
      "Time:                        19:12:47   Log-Likelihood:                -874.53\n",
      "converged:                       True   LL-Null:                       -886.00\n",
      "Covariance Type:            nonrobust   LLR p-value:                 4.143e-05\n",
      "====================================================================================\n",
      "                       coef    std err          z      P>|z|      [0.025      0.975]\n",
      "------------------------------------------------------------------------------------\n",
      "Intercept            1.0153      0.165      6.162      0.000       0.692       1.338\n",
      "FMIS_Index          -0.0642      0.032     -2.013      0.044      -0.127      -0.002\n",
      "Markt                0.4086      0.241      1.694      0.090      -0.064       0.881\n",
      "FMIS_Index:Markt    -0.0766      0.046     -1.675      0.094      -0.166       0.013\n",
      "====================================================================================\n"
     ]
    }
   ],
   "source": [
    "Reg42() #column 2"
   ]
  },
  {
   "cell_type": "code",
   "execution_count": 14,
   "metadata": {
    "scrolled": true
   },
   "outputs": [
    {
     "name": "stdout",
     "output_type": "stream",
     "text": [
      "Optimization terminated successfully.\n",
      "         Current function value: 0.471750\n",
      "         Iterations 6\n",
      "                          Probit Regression Results                           \n",
      "==============================================================================\n",
      "Dep. Variable:                    Dec   No. Observations:                 1603\n",
      "Model:                         Probit   Df Residuals:                     1597\n",
      "Method:                           MLE   Df Model:                            5\n",
      "Date:                Fri, 07 Aug 2020   Pseudo R-squ.:                  0.1465\n",
      "Time:                        19:12:47   Log-Likelihood:                -756.22\n",
      "converged:                       True   LL-Null:                       -886.00\n",
      "Covariance Type:            nonrobust   LLR p-value:                 4.859e-54\n",
      "====================================================================================\n",
      "                       coef    std err          z      P>|z|      [0.025      0.975]\n",
      "------------------------------------------------------------------------------------\n",
      "Intercept           -0.5598      0.211     -2.654      0.008      -0.973      -0.146\n",
      "FMIS_Index          -0.0463      0.034     -1.351      0.177      -0.113       0.021\n",
      "Markt                0.3978      0.260      1.530      0.126      -0.112       0.908\n",
      "FMIS_Index:Markt    -0.0770      0.049     -1.562      0.118      -0.174       0.020\n",
      "Altru_1              0.1858      0.018     10.244      0.000       0.150       0.221\n",
      "Altru_2              0.0015      0.000      5.898      0.000       0.001       0.002\n",
      "====================================================================================\n"
     ]
    }
   ],
   "source": [
    "Reg43() #column 3"
   ]
  },
  {
   "cell_type": "code",
   "execution_count": 15,
   "metadata": {},
   "outputs": [
    {
     "name": "stdout",
     "output_type": "stream",
     "text": [
      "[[ 1.         -0.09631885]\n",
      " [-0.09631885  1.        ]]\n",
      "[[ 1.         -0.07554968]\n",
      " [-0.07554968  1.        ]]\n"
     ]
    }
   ],
   "source": [
    "#Negative correlation between FMIS_Index and Altru\n",
    "print(np.corrcoef(df['FMIS_Index'],df['Altru_1']))\n",
    "print(np.corrcoef(df['FMIS_Index'],df['Altru_2']))"
   ]
  },
  {
   "cell_type": "code",
   "execution_count": 16,
   "metadata": {
    "scrolled": false
   },
   "outputs": [
    {
     "name": "stdout",
     "output_type": "stream",
     "text": [
      "Optimization terminated successfully.\n",
      "         Current function value: 0.549738\n",
      "         Iterations 5\n",
      "                          Probit Regression Results                           \n",
      "==============================================================================\n",
      "Dep. Variable:                    Dec   No. Observations:                 1485\n",
      "Model:                         Probit   Df Residuals:                     1480\n",
      "Method:                           MLE   Df Model:                            4\n",
      "Date:                Fri, 07 Aug 2020   Pseudo R-squ.:                0.006060\n",
      "Time:                        19:12:47   Log-Likelihood:                -816.36\n",
      "converged:                       True   LL-Null:                       -821.34\n",
      "Covariance Type:            nonrobust   LLR p-value:                   0.04120\n",
      "===============================================================================\n",
      "                  coef    std err          z      P>|z|      [0.025      0.975]\n",
      "-------------------------------------------------------------------------------\n",
      "Intercept       0.7316      0.076      9.669      0.000       0.583       0.880\n",
      "WiStu          -0.0340      0.128     -0.266      0.791      -0.285       0.217\n",
      "Markt           0.0843      0.079      1.064      0.288      -0.071       0.240\n",
      "WiStu:Markt    -0.3697      0.183     -2.019      0.044      -0.729      -0.011\n",
      "Student        -0.0472      0.077     -0.611      0.541      -0.199       0.104\n",
      "===============================================================================\n"
     ]
    }
   ],
   "source": [
    "Reg44() #column 4"
   ]
  },
  {
   "cell_type": "code",
   "execution_count": 17,
   "metadata": {},
   "outputs": [
    {
     "name": "stdout",
     "output_type": "stream",
     "text": [
      "5.348717948717951\n",
      "4.932938240798508\n"
     ]
    }
   ],
   "source": [
    "#Mean FMIS of economics students and of total population (Reduced dataset)\n",
    "print(df_ama[df_ama['WiStu']==1]['FMIS_Index'].mean())\n",
    "print(df_ama['FMIS_Index'].mean())"
   ]
  },
  {
   "cell_type": "code",
   "execution_count": 18,
   "metadata": {},
   "outputs": [
    {
     "name": "stdout",
     "output_type": "stream",
     "text": [
      "Optimization terminated successfully.\n",
      "         Current function value: 0.549811\n",
      "         Iterations 5\n",
      "                          Probit Regression Results                           \n",
      "==============================================================================\n",
      "Dep. Variable:                    Dec   No. Observations:                 1597\n",
      "Model:                         Probit   Df Residuals:                     1593\n",
      "Method:                           MLE   Df Model:                            3\n",
      "Date:                Fri, 07 Aug 2020   Pseudo R-squ.:                0.005829\n",
      "Time:                        19:12:47   Log-Likelihood:                -878.05\n",
      "converged:                       True   LL-Null:                       -883.20\n",
      "Covariance Type:            nonrobust   LLR p-value:                   0.01620\n",
      "========================================================================================\n",
      "                           coef    std err          z      P>|z|      [0.025      0.975]\n",
      "----------------------------------------------------------------------------------------\n",
      "Intercept                0.9155      0.139      6.573      0.000       0.642       1.188\n",
      "Marktgeschehen          -0.0585      0.035     -1.667      0.096      -0.127       0.010\n",
      "Markt                    0.1621      0.202      0.801      0.423      -0.235       0.559\n",
      "Marktgeschehen:Markt    -0.0376      0.050     -0.756      0.450      -0.135       0.060\n",
      "========================================================================================\n"
     ]
    }
   ],
   "source": [
    "Reg45() #column 5"
   ]
  },
  {
   "cell_type": "code",
   "execution_count": 19,
   "metadata": {},
   "outputs": [
    {
     "name": "stdout",
     "output_type": "stream",
     "text": [
      "Optimization terminated successfully.\n",
      "         Current function value: 0.488096\n",
      "         Iterations 5\n",
      "                          Probit Regression Results                           \n",
      "==============================================================================\n",
      "Dep. Variable:                    Dec   No. Observations:                 1603\n",
      "Model:                         Probit   Df Residuals:                     1599\n",
      "Method:                           MLE   Df Model:                            3\n",
      "Date:                Fri, 07 Aug 2020   Pseudo R-squ.:                  0.1169\n",
      "Time:                        19:12:47   Log-Likelihood:                -782.42\n",
      "converged:                       True   LL-Null:                       -886.00\n",
      "Covariance Type:            nonrobust   LLR p-value:                 1.194e-44\n",
      "=================================================================================\n",
      "                    coef    std err          z      P>|z|      [0.025      0.975]\n",
      "---------------------------------------------------------------------------------\n",
      "Intercept        -0.7873      0.164     -4.815      0.000      -1.108      -0.467\n",
      "Altru_1           0.2166      0.023      9.398      0.000       0.171       0.262\n",
      "Markt            -0.2121      0.241     -0.881      0.378      -0.684       0.260\n",
      "Altru_1:Markt     0.0287      0.034      0.852      0.394      -0.037       0.095\n",
      "=================================================================================\n"
     ]
    }
   ],
   "source": [
    "Reg46() #column 6"
   ]
  },
  {
   "cell_type": "markdown",
   "metadata": {},
   "source": [
    "### Figure 2"
   ]
  },
  {
   "cell_type": "code",
   "execution_count": 20,
   "metadata": {},
   "outputs": [
    {
     "name": "stdout",
     "output_type": "stream",
     "text": [
      "Optimization terminated successfully.\n",
      "         Current function value: 0.545556\n",
      "         Iterations 5\n"
     ]
    },
    {
     "data": {
      "image/png": "[encoded data removed]",
      "text/plain": [
       "<Figure size 432x288 with 1 Axes>"
      ]
     },
     "metadata": {
      "needs_background": "light"
     },
     "output_type": "display_data"
    }
   ],
   "source": [
    "FMIS_plot()"
   ]
  },
  {
   "cell_type": "code",
   "execution_count": 21,
   "metadata": {
    "scrolled": false
   },
   "outputs": [
    {
     "name": "stdout",
     "output_type": "stream",
     "text": [
      "Optimization terminated successfully.\n",
      "         Current function value: 0.549738\n",
      "         Iterations 5\n"
     ]
    },
    {
     "data": {
      "image/png": "[encoded data removed]",
      "text/plain": [
       "<Figure size 432x288 with 1 Axes>"
      ]
     },
     "metadata": {
      "needs_background": "light"
     },
     "output_type": "display_data"
    }
   ],
   "source": [
    "WiStu_plot()"
   ]
  },
  {
   "cell_type": "markdown",
   "metadata": {},
   "source": [
    "## Results -  Personal Characteristics\n",
    "----"
   ]
  },
  {
   "cell_type": "code",
   "execution_count": 22,
   "metadata": {
    "scrolled": true
   },
   "outputs": [
    {
     "name": "stdout",
     "output_type": "stream",
     "text": [
      "Optimization terminated successfully.\n",
      "         Current function value: 0.439052\n",
      "         Iterations 6\n",
      "                          Probit Regression Results                           \n",
      "==============================================================================\n",
      "Dep. Variable:                    Dec   No. Observations:                  659\n",
      "Model:                         Probit   Df Residuals:                      641\n",
      "Method:                           MLE   Df Model:                           17\n",
      "Date:                Fri, 07 Aug 2020   Pseudo R-squ.:                  0.2079\n",
      "Time:                        19:12:48   Log-Likelihood:                -289.34\n",
      "converged:                       True   LL-Null:                       -365.27\n",
      "Covariance Type:            nonrobust   LLR p-value:                 1.055e-23\n",
      "==================================================================================\n",
      "                     coef    std err          z      P>|z|      [0.025      0.975]\n",
      "----------------------------------------------------------------------------------\n",
      "Intercept          0.5404      0.502      1.077      0.282      -0.443       1.524\n",
      "Altru_1            0.1942      0.030      6.457      0.000       0.135       0.253\n",
      "Altru_2            0.0018      0.000      3.985      0.000       0.001       0.003\n",
      "FMIS_Index        -0.0773      0.045     -1.711      0.087      -0.166       0.011\n",
      "Marktgeschehen    -0.0503      0.046     -1.084      0.279      -0.141       0.041\n",
      "pol_rechts        -0.1085      0.061     -1.787      0.074      -0.227       0.010\n",
      "Gespendet          0.0488      0.197      0.247      0.805      -0.338       0.436\n",
      "Geld               0.0276      0.049      0.565      0.572      -0.068       0.123\n",
      "weiblich           0.1474      0.127      1.161      0.246      -0.101       0.396\n",
      "Alter             -0.2574      0.106     -2.438      0.015      -0.464      -0.050\n",
      "Selbst             0.0825      0.337      0.245      0.806      -0.577       0.742\n",
      "Sozial             0.0439      0.168      0.261      0.794      -0.286       0.374\n",
      "Marktberuf         0.1711      0.204      0.840      0.401      -0.228       0.570\n",
      "WiStu             -0.4509      0.262     -1.720      0.085      -0.965       0.063\n",
      "NatStu            -0.2050      0.234     -0.876      0.381      -0.664       0.254\n",
      "SoStu             -0.2718      0.234     -1.162      0.245      -0.730       0.187\n",
      "JurStu            -0.3597      0.279     -1.287      0.198      -0.907       0.188\n",
      "Akademiker         0.1659      0.210      0.792      0.428      -0.245       0.577\n",
      "==================================================================================\n"
     ]
    }
   ],
   "source": [
    "Reg51() #column 1"
   ]
  },
  {
   "cell_type": "code",
   "execution_count": 23,
   "metadata": {
    "scrolled": false
   },
   "outputs": [
    {
     "name": "stdout",
     "output_type": "stream",
     "text": [
      "Optimization terminated successfully.\n",
      "         Current function value: 0.448563\n",
      "         Iterations 6\n",
      "                          Probit Regression Results                           \n",
      "==============================================================================\n",
      "Dep. Variable:                    Dec   No. Observations:                  693\n",
      "Model:                         Probit   Df Residuals:                      680\n",
      "Method:                           MLE   Df Model:                           12\n",
      "Date:                Fri, 07 Aug 2020   Pseudo R-squ.:                  0.1925\n",
      "Time:                        19:12:48   Log-Likelihood:                -310.85\n",
      "converged:                       True   LL-Null:                       -384.96\n",
      "Covariance Type:            nonrobust   LLR p-value:                 1.308e-25\n",
      "==============================================================================\n",
      "                 coef    std err          z      P>|z|      [0.025      0.975]\n",
      "------------------------------------------------------------------------------\n",
      "Intercept      0.1955      0.451      0.434      0.664      -0.688       1.079\n",
      "Altru_1        0.1883      0.029      6.490      0.000       0.131       0.245\n",
      "Altru_2        0.0019      0.000      4.232      0.000       0.001       0.003\n",
      "FMIS_Index    -0.0935      0.042     -2.223      0.026      -0.176      -0.011\n",
      "pol_rechts    -0.1003      0.058     -1.724      0.085      -0.214       0.014\n",
      "Gespendet      0.0231      0.194      0.119      0.905      -0.357       0.403\n",
      "Geld           0.0319      0.042      0.753      0.451      -0.051       0.115\n",
      "weiblich       0.1845      0.121      1.529      0.126      -0.052       0.421\n",
      "Alter         -0.2192      0.098     -2.225      0.026      -0.412      -0.026\n",
      "Selbst         0.1769      0.317      0.559      0.576      -0.444       0.798\n",
      "Sozial         0.0216      0.158      0.137      0.891      -0.287       0.330\n",
      "Marktberuf     0.0023      0.133      0.018      0.986      -0.259       0.264\n",
      "Akademiker     0.0915      0.196      0.468      0.640      -0.292       0.475\n",
      "==============================================================================\n"
     ]
    }
   ],
   "source": [
    "Reg52() #column 2"
   ]
  },
  {
   "cell_type": "code",
   "execution_count": 24,
   "metadata": {},
   "outputs": [
    {
     "name": "stdout",
     "output_type": "stream",
     "text": [
      "Optimization terminated successfully.\n",
      "         Current function value: 0.518823\n",
      "         Iterations 5\n",
      "                          Probit Regression Results                           \n",
      "==============================================================================\n",
      "Dep. Variable:                    Dec   No. Observations:                  693\n",
      "Model:                         Probit   Df Residuals:                      682\n",
      "Method:                           MLE   Df Model:                           10\n",
      "Date:                Fri, 07 Aug 2020   Pseudo R-squ.:                 0.06602\n",
      "Time:                        19:12:48   Log-Likelihood:                -359.54\n",
      "converged:                       True   LL-Null:                       -384.96\n",
      "Covariance Type:            nonrobust   LLR p-value:                 1.878e-07\n",
      "==============================================================================\n",
      "                 coef    std err          z      P>|z|      [0.025      0.975]\n",
      "------------------------------------------------------------------------------\n",
      "Intercept      1.4953      0.393      3.801      0.000       0.724       2.266\n",
      "FMIS_Index    -0.0812      0.039     -2.087      0.037      -0.157      -0.005\n",
      "pol_rechts    -0.1658      0.054     -3.057      0.002      -0.272      -0.060\n",
      "Gespendet      0.3870      0.177      2.185      0.029       0.040       0.734\n",
      "Geld           0.0655      0.040      1.648      0.099      -0.012       0.143\n",
      "weiblich       0.3058      0.112      2.727      0.006       0.086       0.526\n",
      "Alter         -0.2158      0.091     -2.368      0.018      -0.394      -0.037\n",
      "Selbst         0.2800      0.303      0.925      0.355      -0.313       0.873\n",
      "Sozial         0.0700      0.147      0.476      0.634      -0.218       0.358\n",
      "Marktberuf    -0.0619      0.124     -0.501      0.616      -0.304       0.180\n",
      "Akademiker     0.0266      0.184      0.144      0.885      -0.335       0.388\n",
      "==============================================================================\n"
     ]
    }
   ],
   "source": [
    "Reg53() #column 3"
   ]
  },
  {
   "cell_type": "markdown",
   "metadata": {},
   "source": [
    "## Additional Explorations (not included in Thesis)\n",
    "----------"
   ]
  },
  {
   "cell_type": "code",
   "execution_count": 25,
   "metadata": {
    "scrolled": false
   },
   "outputs": [
    {
     "name": "stdout",
     "output_type": "stream",
     "text": [
      "Optimization terminated successfully.\n",
      "         Current function value: 0.545556\n",
      "         Iterations 5\n",
      "Optimization terminated successfully.\n",
      "         Current function value: 0.544038\n",
      "         Iterations 6\n",
      "                          Probit Regression Results                           \n",
      "==============================================================================\n",
      "Dep. Variable:                    Dec   No. Observations:                 1603\n",
      "Model:                         Probit   Df Residuals:                     1597\n",
      "Method:                           MLE   Df Model:                            5\n",
      "Date:                Fri, 07 Aug 2020   Pseudo R-squ.:                 0.01570\n",
      "Time:                        19:12:49   Log-Likelihood:                -872.09\n",
      "converged:                       True   LL-Null:                       -886.00\n",
      "Covariance Type:            nonrobust   LLR p-value:                 3.957e-05\n",
      "==========================================================================================\n",
      "                             coef    std err          z      P>|z|      [0.025      0.975]\n",
      "------------------------------------------------------------------------------------------\n",
      "Intercept                  0.5360      0.318      1.688      0.091      -0.086       1.158\n",
      "FMIS_Index                -0.7888      0.417     -1.894      0.058      -1.605       0.028\n",
      "Markt                     19.5398     17.741      1.101      0.271     -15.231      54.311\n",
      "FMIS_Index:Markt          -0.8009      0.729     -1.099      0.272      -2.229       0.627\n",
      "Predictions:Markt        -20.3780     18.554     -1.098      0.272     -56.744      15.988\n",
      "Predictions:FMIS_Index     1.0994      0.630      1.746      0.081      -0.135       2.334\n",
      "==========================================================================================\n",
      "<Wald test (chi2): statistic=[[4.77199945]], p-value=0.09199696197345791, df_denom=2>\n"
     ]
    }
   ],
   "source": [
    "#Tets for Heteroscedasticity\n",
    "#-----------------------------------------------------------------------------------------------\n",
    "#------------------Get predicted values of simple regression-----------------\n",
    "y, X = dmatrices('Dec ~ FMIS_Index*Markt', df_ama, return_type = 'dataframe')\n",
    "probit = sm.Probit(y, X, missing='drop')\n",
    "res=probit.fit()\n",
    "df_predict=pd.DataFrame(res.predict(X),columns=['Predictions'])\n",
    "df_predict[['Dec', 'FMIS_Index', 'Markt']]=df[['Dec', 'FMIS_Index', 'Markt']]\n",
    "#------------------Regression with included Predictions------------------------\n",
    "y, X = dmatrices('Dec ~ FMIS_Index*Markt + Predictions:Markt + Predictions:FMIS_Index', df_predict, return_type = 'dataframe')\n",
    "probit = sm.Probit(y, X, missing='drop')\n",
    "res_predict=probit.fit()\n",
    "print(res_predict.summary())\n",
    "hypo_hsced = '(Predictions:Markt = 0, Predictions:FMIS_Index = 0)'\n",
    "wald_hsced = res_predict.wald_test(hypo_hsced)\n",
    "print(wald_hsced)"
   ]
  },
  {
   "cell_type": "code",
   "execution_count": 26,
   "metadata": {},
   "outputs": [
    {
     "data": {
      "text/plain": [
       "<matplotlib.axes._subplots.AxesSubplot at 0x24f38b3b888>"
      ]
     },
     "execution_count": 26,
     "metadata": {},
     "output_type": "execute_result"
    },
    {
     "data": {
      "image/png": "[encoded data removed]",
      "text/plain": [
       "<Figure size 432x288 with 1 Axes>"
      ]
     },
     "metadata": {
      "needs_background": "light"
     },
     "output_type": "display_data"
    }
   ],
   "source": [
    "df['FMIS_Index'].plot.density()"
   ]
  }
 ],
 "metadata": {
  "kernelspec": {
   "display_name": "Python 3",
   "language": "python",
   "name": "python3"
  },
  "language_info": {
   "codemirror_mode": {
    "name": "ipython",
    "version": 3
   },
   "file_extension": ".py",
   "mimetype": "text/x-python",
   "name": "python",
   "nbconvert_exporter": "python",
   "pygments_lexer": "ipython3",
   "version": "3.7.7"
  }
 },
 "nbformat": 4,
 "nbformat_minor": 2
}
