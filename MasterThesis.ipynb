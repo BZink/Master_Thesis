{
 "cells": [
  {
   "cell_type": "markdown",
   "metadata": {},
   "source": [
    "# Do Markets Evoke Egoism? A Study on the Framing Effects of Market Situations  \n",
    "***********************************"
   ]
  },
  {
   "cell_type": "code",
   "execution_count": 1,
   "metadata": {},
   "outputs": [],
   "source": [
    "import my_auxiliary as aux"
   ]
  },
  {
   "cell_type": "code",
   "execution_count": 2,
   "metadata": {
    "scrolled": true
   },
   "outputs": [
    {
     "data": {
      "text/plain": [
       "<module 'my_auxiliary' from 'C:\\\\Users\\\\benit\\\\Documents\\\\Uni\\\\Master\\\\Masterarbeit\\\\Codes\\\\my_auxiliary.py'>"
      ]
     },
     "execution_count": 2,
     "metadata": {},
     "output_type": "execute_result"
    }
   ],
   "source": [
    "#This is for reloading the auxiliary file if adjustments were made:\n",
    "aux.importlib.reload(aux)"
   ]
  },
  {
   "cell_type": "markdown",
   "metadata": {},
   "source": [
    "This notebook contains the code for the results in my Master Thesis."
   ]
  },
  {
   "cell_type": "markdown",
   "metadata": {},
   "source": [
    "## Descriptive Statistics\n",
    "----------------"
   ]
  },
  {
   "cell_type": "code",
   "execution_count": 3,
   "metadata": {},
   "outputs": [
    {
     "data": {
      "text/html": [
       "<div>\n",
       "<style scoped>\n",
       "    .dataframe tbody tr th:only-of-type {\n",
       "        vertical-align: middle;\n",
       "    }\n",
       "\n",
       "    .dataframe tbody tr th {\n",
       "        vertical-align: top;\n",
       "    }\n",
       "\n",
       "    .dataframe thead th {\n",
       "        text-align: right;\n",
       "    }\n",
       "</style>\n",
       "<table border=\"1\" class=\"dataframe\">\n",
       "  <thead>\n",
       "    <tr style=\"text-align: right;\">\n",
       "      <th></th>\n",
       "      <th>Observations</th>\n",
       "      <th>Type</th>\n",
       "      <th>Summe</th>\n",
       "      <th>Mean</th>\n",
       "    </tr>\n",
       "  </thead>\n",
       "  <tbody>\n",
       "    <tr>\n",
       "      <th>Markt</th>\n",
       "      <td>1778</td>\n",
       "      <td>Dummy</td>\n",
       "      <td>857.000000</td>\n",
       "      <td>0.482002</td>\n",
       "    </tr>\n",
       "    <tr>\n",
       "      <th>Dec</th>\n",
       "      <td>1778</td>\n",
       "      <td>Dummy</td>\n",
       "      <td>1391.000000</td>\n",
       "      <td>0.782340</td>\n",
       "    </tr>\n",
       "    <tr>\n",
       "      <th>FMIS_Index</th>\n",
       "      <td>1778</td>\n",
       "      <td>Scale 1-11</td>\n",
       "      <td>8714.333333</td>\n",
       "      <td>4.901200</td>\n",
       "    </tr>\n",
       "    <tr>\n",
       "      <th>Altru_1</th>\n",
       "      <td>1778</td>\n",
       "      <td>Scale 1-11</td>\n",
       "      <td>12880.000000</td>\n",
       "      <td>7.244094</td>\n",
       "    </tr>\n",
       "    <tr>\n",
       "      <th>Altru_2</th>\n",
       "      <td>1778</td>\n",
       "      <td>Integer 0-1000</td>\n",
       "      <td>323539.000000</td>\n",
       "      <td>181.967942</td>\n",
       "    </tr>\n",
       "    <tr>\n",
       "      <th>weiblich</th>\n",
       "      <td>1767</td>\n",
       "      <td>Dummy</td>\n",
       "      <td>1144.000000</td>\n",
       "      <td>0.647425</td>\n",
       "    </tr>\n",
       "    <tr>\n",
       "      <th>Alter</th>\n",
       "      <td>1771</td>\n",
       "      <td>Ordered Groups 1-7</td>\n",
       "      <td>4398.000000</td>\n",
       "      <td>2.483343</td>\n",
       "    </tr>\n",
       "    <tr>\n",
       "      <th>Abschluss</th>\n",
       "      <td>1770</td>\n",
       "      <td>Groups</td>\n",
       "      <td>10083.000000</td>\n",
       "      <td>5.696610</td>\n",
       "    </tr>\n",
       "    <tr>\n",
       "      <th>Tätigkeit</th>\n",
       "      <td>1759</td>\n",
       "      <td>Groups</td>\n",
       "      <td>2935.000000</td>\n",
       "      <td>1.668562</td>\n",
       "    </tr>\n",
       "    <tr>\n",
       "      <th>Berufsfeld</th>\n",
       "      <td>1661</td>\n",
       "      <td>Groups</td>\n",
       "      <td>8012.000000</td>\n",
       "      <td>4.823600</td>\n",
       "    </tr>\n",
       "    <tr>\n",
       "      <th>Studium</th>\n",
       "      <td>1658</td>\n",
       "      <td>Groups</td>\n",
       "      <td>8239.000000</td>\n",
       "      <td>4.969240</td>\n",
       "    </tr>\n",
       "    <tr>\n",
       "      <th>Geld</th>\n",
       "      <td>1764</td>\n",
       "      <td>Ordered Groups 1-8</td>\n",
       "      <td>4380.000000</td>\n",
       "      <td>2.482993</td>\n",
       "    </tr>\n",
       "    <tr>\n",
       "      <th>Marktgeschehen</th>\n",
       "      <td>1771</td>\n",
       "      <td>Scale 1-7</td>\n",
       "      <td>6615.000000</td>\n",
       "      <td>3.735178</td>\n",
       "    </tr>\n",
       "    <tr>\n",
       "      <th>pol_rechts</th>\n",
       "      <td>1765</td>\n",
       "      <td>Scale 1-7</td>\n",
       "      <td>5822.000000</td>\n",
       "      <td>3.298584</td>\n",
       "    </tr>\n",
       "    <tr>\n",
       "      <th>Gespendet</th>\n",
       "      <td>1775</td>\n",
       "      <td>Dummy</td>\n",
       "      <td>1593.000000</td>\n",
       "      <td>0.897465</td>\n",
       "    </tr>\n",
       "    <tr>\n",
       "      <th>Müll</th>\n",
       "      <td>1774</td>\n",
       "      <td>Dummy</td>\n",
       "      <td>198.000000</td>\n",
       "      <td>0.111612</td>\n",
       "    </tr>\n",
       "    <tr>\n",
       "      <th>Amazon</th>\n",
       "      <td>1776</td>\n",
       "      <td>Dummy</td>\n",
       "      <td>173.000000</td>\n",
       "      <td>0.097410</td>\n",
       "    </tr>\n",
       "    <tr>\n",
       "      <th>Student</th>\n",
       "      <td>1644</td>\n",
       "      <td>Dummy</td>\n",
       "      <td>1125.000000</td>\n",
       "      <td>0.684307</td>\n",
       "    </tr>\n",
       "    <tr>\n",
       "      <th>Working</th>\n",
       "      <td>1759</td>\n",
       "      <td>Dummy</td>\n",
       "      <td>533.000000</td>\n",
       "      <td>0.303013</td>\n",
       "    </tr>\n",
       "    <tr>\n",
       "      <th>Akademiker</th>\n",
       "      <td>1731</td>\n",
       "      <td>Dummy</td>\n",
       "      <td>1575.000000</td>\n",
       "      <td>0.909879</td>\n",
       "    </tr>\n",
       "    <tr>\n",
       "      <th>Selbst</th>\n",
       "      <td>1759</td>\n",
       "      <td>Dummy</td>\n",
       "      <td>62.000000</td>\n",
       "      <td>0.035247</td>\n",
       "    </tr>\n",
       "    <tr>\n",
       "      <th>Sozial</th>\n",
       "      <td>1661</td>\n",
       "      <td>Dummy</td>\n",
       "      <td>381.000000</td>\n",
       "      <td>0.229380</td>\n",
       "    </tr>\n",
       "    <tr>\n",
       "      <th>Marktberuf</th>\n",
       "      <td>1661</td>\n",
       "      <td>Dummy</td>\n",
       "      <td>611.000000</td>\n",
       "      <td>0.367851</td>\n",
       "    </tr>\n",
       "    <tr>\n",
       "      <th>WiStu</th>\n",
       "      <td>1658</td>\n",
       "      <td>Dummy</td>\n",
       "      <td>295.000000</td>\n",
       "      <td>0.177925</td>\n",
       "    </tr>\n",
       "    <tr>\n",
       "      <th>SoStu</th>\n",
       "      <td>1658</td>\n",
       "      <td>Dummy</td>\n",
       "      <td>335.000000</td>\n",
       "      <td>0.202051</td>\n",
       "    </tr>\n",
       "    <tr>\n",
       "      <th>NatStu</th>\n",
       "      <td>1658</td>\n",
       "      <td>Dummy</td>\n",
       "      <td>559.000000</td>\n",
       "      <td>0.337153</td>\n",
       "    </tr>\n",
       "    <tr>\n",
       "      <th>JurStu</th>\n",
       "      <td>1658</td>\n",
       "      <td>Dummy</td>\n",
       "      <td>266.000000</td>\n",
       "      <td>0.160434</td>\n",
       "    </tr>\n",
       "    <tr>\n",
       "      <th>NoStu</th>\n",
       "      <td>1658</td>\n",
       "      <td>Dummy</td>\n",
       "      <td>203.000000</td>\n",
       "      <td>0.122437</td>\n",
       "    </tr>\n",
       "  </tbody>\n",
       "</table>\n",
       "</div>"
      ],
      "text/plain": [
       "                Observations                Type          Summe        Mean\n",
       "Markt                   1778               Dummy     857.000000    0.482002\n",
       "Dec                     1778               Dummy    1391.000000    0.782340\n",
       "FMIS_Index              1778          Scale 1-11    8714.333333    4.901200\n",
       "Altru_1                 1778          Scale 1-11   12880.000000    7.244094\n",
       "Altru_2                 1778      Integer 0-1000  323539.000000  181.967942\n",
       "weiblich                1767               Dummy    1144.000000    0.647425\n",
       "Alter                   1771  Ordered Groups 1-7    4398.000000    2.483343\n",
       "Abschluss               1770              Groups   10083.000000    5.696610\n",
       "Tätigkeit               1759              Groups    2935.000000    1.668562\n",
       "Berufsfeld              1661              Groups    8012.000000    4.823600\n",
       "Studium                 1658              Groups    8239.000000    4.969240\n",
       "Geld                    1764  Ordered Groups 1-8    4380.000000    2.482993\n",
       "Marktgeschehen          1771           Scale 1-7    6615.000000    3.735178\n",
       "pol_rechts              1765           Scale 1-7    5822.000000    3.298584\n",
       "Gespendet               1775               Dummy    1593.000000    0.897465\n",
       "Müll                    1774               Dummy     198.000000    0.111612\n",
       "Amazon                  1776               Dummy     173.000000    0.097410\n",
       "Student                 1644               Dummy    1125.000000    0.684307\n",
       "Working                 1759               Dummy     533.000000    0.303013\n",
       "Akademiker              1731               Dummy    1575.000000    0.909879\n",
       "Selbst                  1759               Dummy      62.000000    0.035247\n",
       "Sozial                  1661               Dummy     381.000000    0.229380\n",
       "Marktberuf              1661               Dummy     611.000000    0.367851\n",
       "WiStu                   1658               Dummy     295.000000    0.177925\n",
       "SoStu                   1658               Dummy     335.000000    0.202051\n",
       "NatStu                  1658               Dummy     559.000000    0.337153\n",
       "JurStu                  1658               Dummy     266.000000    0.160434\n",
       "NoStu                   1658               Dummy     203.000000    0.122437"
      ]
     },
     "execution_count": 3,
     "metadata": {},
     "output_type": "execute_result"
    }
   ],
   "source": [
    "aux.Sum_Var()"
   ]
  },
  {
   "cell_type": "code",
   "execution_count": 4,
   "metadata": {
    "scrolled": false
   },
   "outputs": [
    {
     "name": "stdout",
     "output_type": "stream",
     "text": [
      "Percentage of participanst who are below 25 years: 0.590626764539808\n",
      "Percentage of all Müll= 1 participanst who decide unmorally: 0.2676767676767677\n",
      "Percentage of all Müll= 1 participanst who decide morally: 0.7323232323232324\n"
     ]
    }
   ],
   "source": [
    "p_Alter=aux.df['Alter'][(aux.df['Alter']==1)|(aux.df['Alter']==2)].count()/aux.df['Alter'].count()\n",
    "print(\"Percentage of participanst who are below 25 years: \" + str(p_Alter))\n",
    "#----------------------------------------------\n",
    "p_Müllunmoral=aux.df['Müll'][(aux.df['Dec']==0)].sum()/aux.df['Müll'].sum()\n",
    "p_Müllmoral=aux.df['Müll'][(aux.df['Dec']==1)].sum()/aux.df['Müll'].sum()\n",
    "print(\"Percentage of all Müll= 1 participanst who decide unmorally: \" + str(p_Müllunmoral))\n",
    "print(\"Percentage of all Müll= 1 participanst who decide morally: \" + str(p_Müllmoral))"
   ]
  },
  {
   "cell_type": "code",
   "execution_count": 5,
   "metadata": {},
   "outputs": [
    {
     "data": {
      "image/png": "[encoded data removed]",
      "text/plain": [
       "<Figure size 288x216 with 1 Axes>"
      ]
     },
     "metadata": {
      "needs_background": "light"
     },
     "output_type": "display_data"
    }
   ],
   "source": [
    "aux.barchart(aux.df)"
   ]
  },
  {
   "cell_type": "code",
   "execution_count": 19,
   "metadata": {},
   "outputs": [
    {
     "data": {
      "text/html": [
       "<div>\n",
       "<style scoped>\n",
       "    .dataframe tbody tr th:only-of-type {\n",
       "        vertical-align: middle;\n",
       "    }\n",
       "\n",
       "    .dataframe tbody tr th {\n",
       "        vertical-align: top;\n",
       "    }\n",
       "\n",
       "    .dataframe thead th {\n",
       "        text-align: right;\n",
       "    }\n",
       "</style>\n",
       "<table border=\"1\" class=\"dataframe\">\n",
       "  <thead>\n",
       "    <tr style=\"text-align: right;\">\n",
       "      <th></th>\n",
       "      <th>0</th>\n",
       "      <th>1</th>\n",
       "    </tr>\n",
       "  </thead>\n",
       "  <tbody>\n",
       "    <tr>\n",
       "      <th>0</th>\n",
       "      <td>Wirtschaft, Verwaltung</td>\n",
       "      <td>1</td>\n",
       "    </tr>\n",
       "    <tr>\n",
       "      <th>1</th>\n",
       "      <td>Soziales, PÃ¤dagogik</td>\n",
       "      <td>2</td>\n",
       "    </tr>\n",
       "    <tr>\n",
       "      <th>2</th>\n",
       "      <td>Dienstleistung</td>\n",
       "      <td>3</td>\n",
       "    </tr>\n",
       "    <tr>\n",
       "      <th>3</th>\n",
       "      <td>Gesundheit</td>\n",
       "      <td>4</td>\n",
       "    </tr>\n",
       "    <tr>\n",
       "      <th>4</th>\n",
       "      <td>Metall, Maschinenbau</td>\n",
       "      <td>5</td>\n",
       "    </tr>\n",
       "    <tr>\n",
       "      <th>5</th>\n",
       "      <td>Medien</td>\n",
       "      <td>6</td>\n",
       "    </tr>\n",
       "    <tr>\n",
       "      <th>6</th>\n",
       "      <td>IT, Computer</td>\n",
       "      <td>7</td>\n",
       "    </tr>\n",
       "    <tr>\n",
       "      <th>7</th>\n",
       "      <td>Naturwissenschaften, Mathematik</td>\n",
       "      <td>8</td>\n",
       "    </tr>\n",
       "    <tr>\n",
       "      <th>8</th>\n",
       "      <td>Verkehr, Logistik</td>\n",
       "      <td>9</td>\n",
       "    </tr>\n",
       "    <tr>\n",
       "      <th>9</th>\n",
       "      <td>Technik, Technologiefelder</td>\n",
       "      <td>10</td>\n",
       "    </tr>\n",
       "    <tr>\n",
       "      <th>10</th>\n",
       "      <td>Kunst, Kultur, Gestaltung</td>\n",
       "      <td>11</td>\n",
       "    </tr>\n",
       "    <tr>\n",
       "      <th>11</th>\n",
       "      <td>Landwirtschaft, Natur, Umwelt</td>\n",
       "      <td>12</td>\n",
       "    </tr>\n",
       "    <tr>\n",
       "      <th>12</th>\n",
       "      <td>Elektro</td>\n",
       "      <td>13</td>\n",
       "    </tr>\n",
       "    <tr>\n",
       "      <th>13</th>\n",
       "      <td>Bau, Architektur, Vermessung</td>\n",
       "      <td>14</td>\n",
       "    </tr>\n",
       "    <tr>\n",
       "      <th>14</th>\n",
       "      <td>Produktion, Fertigung</td>\n",
       "      <td>15</td>\n",
       "    </tr>\n",
       "  </tbody>\n",
       "</table>\n",
       "</div>"
      ],
      "text/plain": [
       "                                  0   1\n",
       "0            Wirtschaft, Verwaltung   1\n",
       "1              Soziales, PÃ¤dagogik   2\n",
       "2                    Dienstleistung   3\n",
       "3                        Gesundheit   4\n",
       "4              Metall, Maschinenbau   5\n",
       "5                            Medien   6\n",
       "6                      IT, Computer   7\n",
       "7   Naturwissenschaften, Mathematik   8\n",
       "8                 Verkehr, Logistik   9\n",
       "9        Technik, Technologiefelder  10\n",
       "10        Kunst, Kultur, Gestaltung  11\n",
       "11    Landwirtschaft, Natur, Umwelt  12\n",
       "12                          Elektro  13\n",
       "13     Bau, Architektur, Vermessung  14\n",
       "14            Produktion, Fertigung  15"
      ]
     },
     "execution_count": 19,
     "metadata": {},
     "output_type": "execute_result"
    }
   ],
   "source": [
    "#Coding of the classified variables:\n",
    "#-----------------------------------------\n",
    "#aux.df_Alter \n",
    "#aux.df_Abschluss\n",
    "#aux.df_Tätigkeit\n",
    "aux.df_Berufsfeld\n",
    "#aux.df_Studium\n",
    "#aux.df_Einkommen"
   ]
  },
  {
   "cell_type": "markdown",
   "metadata": {},
   "source": [
    "## Results - Market Framing\n",
    "------------"
   ]
  },
  {
   "cell_type": "code",
   "execution_count": 7,
   "metadata": {
    "scrolled": false
   },
   "outputs": [
    {
     "name": "stdout",
     "output_type": "stream",
     "text": [
      "Table 1: Percentage of people deciding to donate\n"
     ]
    },
    {
     "data": {
      "text/html": [
       "<div>\n",
       "<style scoped>\n",
       "    .dataframe tbody tr th:only-of-type {\n",
       "        vertical-align: middle;\n",
       "    }\n",
       "\n",
       "    .dataframe tbody tr th {\n",
       "        vertical-align: top;\n",
       "    }\n",
       "\n",
       "    .dataframe thead th {\n",
       "        text-align: right;\n",
       "    }\n",
       "</style>\n",
       "<table border=\"1\" class=\"dataframe\">\n",
       "  <thead>\n",
       "    <tr style=\"text-align: right;\">\n",
       "      <th></th>\n",
       "      <th>Baseline</th>\n",
       "      <th>Market</th>\n",
       "      <th>Mann-Whitney-U</th>\n",
       "      <th>p-Value</th>\n",
       "    </tr>\n",
       "  </thead>\n",
       "  <tbody>\n",
       "    <tr>\n",
       "      <th>Total</th>\n",
       "      <td>78.067318</td>\n",
       "      <td>78.413069</td>\n",
       "      <td>393284.0</td>\n",
       "      <td>0.859964</td>\n",
       "    </tr>\n",
       "    <tr>\n",
       "      <th>w/o Amazon-despisers</th>\n",
       "      <td>75.779376</td>\n",
       "      <td>75.942783</td>\n",
       "      <td>320149.0</td>\n",
       "      <td>0.939197</td>\n",
       "    </tr>\n",
       "    <tr>\n",
       "      <th>w/o waste perfectionists</th>\n",
       "      <td>78.276699</td>\n",
       "      <td>79.654255</td>\n",
       "      <td>305556.0</td>\n",
       "      <td>0.503136</td>\n",
       "    </tr>\n",
       "    <tr>\n",
       "      <th>w/o both of the above</th>\n",
       "      <td>75.973154</td>\n",
       "      <td>77.198212</td>\n",
       "      <td>246885.5</td>\n",
       "      <td>0.587113</td>\n",
       "    </tr>\n",
       "  </tbody>\n",
       "</table>\n",
       "</div>"
      ],
      "text/plain": [
       "                           Baseline     Market  Mann-Whitney-U   p-Value\n",
       "Total                     78.067318  78.413069        393284.0  0.859964\n",
       "w/o Amazon-despisers      75.779376  75.942783        320149.0  0.939197\n",
       "w/o waste perfectionists  78.276699  79.654255        305556.0  0.503136\n",
       "w/o both of the above     75.973154  77.198212        246885.5  0.587113"
      ]
     },
     "execution_count": 7,
     "metadata": {},
     "output_type": "execute_result"
    }
   ],
   "source": [
    "aux.sum_dfs()"
   ]
  },
  {
   "cell_type": "code",
   "execution_count": 8,
   "metadata": {
    "scrolled": true
   },
   "outputs": [
    {
     "data": {
      "text/html": [
       "<div>\n",
       "<style scoped>\n",
       "    .dataframe tbody tr th:only-of-type {\n",
       "        vertical-align: middle;\n",
       "    }\n",
       "\n",
       "    .dataframe tbody tr th {\n",
       "        vertical-align: top;\n",
       "    }\n",
       "\n",
       "    .dataframe thead th {\n",
       "        text-align: right;\n",
       "    }\n",
       "</style>\n",
       "<table border=\"1\" class=\"dataframe\">\n",
       "  <thead>\n",
       "    <tr style=\"text-align: right;\">\n",
       "      <th></th>\n",
       "      <th>Markt</th>\n",
       "      <th>FMIS_Index</th>\n",
       "      <th>Altru_1</th>\n",
       "      <th>Altru_2</th>\n",
       "      <th>weiblich</th>\n",
       "      <th>Alter</th>\n",
       "      <th>Abschluss</th>\n",
       "      <th>Tätigkeit</th>\n",
       "      <th>Berufsfeld</th>\n",
       "      <th>Studium</th>\n",
       "      <th>...</th>\n",
       "      <th>Working</th>\n",
       "      <th>Akademiker</th>\n",
       "      <th>Selbst</th>\n",
       "      <th>Sozial</th>\n",
       "      <th>Marktberuf</th>\n",
       "      <th>WiStu</th>\n",
       "      <th>SoStu</th>\n",
       "      <th>NatStu</th>\n",
       "      <th>JurStu</th>\n",
       "      <th>NoStu</th>\n",
       "    </tr>\n",
       "    <tr>\n",
       "      <th>Dec</th>\n",
       "      <th></th>\n",
       "      <th></th>\n",
       "      <th></th>\n",
       "      <th></th>\n",
       "      <th></th>\n",
       "      <th></th>\n",
       "      <th></th>\n",
       "      <th></th>\n",
       "      <th></th>\n",
       "      <th></th>\n",
       "      <th></th>\n",
       "      <th></th>\n",
       "      <th></th>\n",
       "      <th></th>\n",
       "      <th></th>\n",
       "      <th></th>\n",
       "      <th></th>\n",
       "      <th></th>\n",
       "      <th></th>\n",
       "      <th></th>\n",
       "      <th></th>\n",
       "    </tr>\n",
       "  </thead>\n",
       "  <tbody>\n",
       "    <tr>\n",
       "      <th>0</th>\n",
       "      <td>0.478036</td>\n",
       "      <td>5.234281</td>\n",
       "      <td>5.785530</td>\n",
       "      <td>85.534884</td>\n",
       "      <td>0.513021</td>\n",
       "      <td>2.514286</td>\n",
       "      <td>5.709091</td>\n",
       "      <td>1.580729</td>\n",
       "      <td>4.271233</td>\n",
       "      <td>4.963989</td>\n",
       "      <td>...</td>\n",
       "      <td>0.299479</td>\n",
       "      <td>0.913386</td>\n",
       "      <td>0.026042</td>\n",
       "      <td>0.227397</td>\n",
       "      <td>0.435616</td>\n",
       "      <td>0.216066</td>\n",
       "      <td>0.210526</td>\n",
       "      <td>0.274238</td>\n",
       "      <td>0.193906</td>\n",
       "      <td>0.105263</td>\n",
       "    </tr>\n",
       "    <tr>\n",
       "      <th>1</th>\n",
       "      <td>0.483106</td>\n",
       "      <td>4.808531</td>\n",
       "      <td>7.649892</td>\n",
       "      <td>208.797268</td>\n",
       "      <td>0.684743</td>\n",
       "      <td>2.474747</td>\n",
       "      <td>5.693141</td>\n",
       "      <td>1.693091</td>\n",
       "      <td>4.979167</td>\n",
       "      <td>4.970702</td>\n",
       "      <td>...</td>\n",
       "      <td>0.304000</td>\n",
       "      <td>0.908889</td>\n",
       "      <td>0.037818</td>\n",
       "      <td>0.229938</td>\n",
       "      <td>0.348765</td>\n",
       "      <td>0.167309</td>\n",
       "      <td>0.199692</td>\n",
       "      <td>0.354665</td>\n",
       "      <td>0.151118</td>\n",
       "      <td>0.127217</td>\n",
       "    </tr>\n",
       "  </tbody>\n",
       "</table>\n",
       "<p>2 rows × 27 columns</p>\n",
       "</div>"
      ],
      "text/plain": [
       "        Markt  FMIS_Index   Altru_1     Altru_2  weiblich     Alter  \\\n",
       "Dec                                                                   \n",
       "0    0.478036    5.234281  5.785530   85.534884  0.513021  2.514286   \n",
       "1    0.483106    4.808531  7.649892  208.797268  0.684743  2.474747   \n",
       "\n",
       "     Abschluss  Tätigkeit  Berufsfeld   Studium  ...   Working  Akademiker  \\\n",
       "Dec                                              ...                         \n",
       "0     5.709091   1.580729    4.271233  4.963989  ...  0.299479    0.913386   \n",
       "1     5.693141   1.693091    4.979167  4.970702  ...  0.304000    0.908889   \n",
       "\n",
       "       Selbst    Sozial  Marktberuf     WiStu     SoStu    NatStu    JurStu  \\\n",
       "Dec                                                                           \n",
       "0    0.026042  0.227397    0.435616  0.216066  0.210526  0.274238  0.193906   \n",
       "1    0.037818  0.229938    0.348765  0.167309  0.199692  0.354665  0.151118   \n",
       "\n",
       "        NoStu  \n",
       "Dec            \n",
       "0    0.105263  \n",
       "1    0.127217  \n",
       "\n",
       "[2 rows x 27 columns]"
      ]
     },
     "execution_count": 8,
     "metadata": {},
     "output_type": "execute_result"
    }
   ],
   "source": [
    "aux.df.groupby('Dec').mean()"
   ]
  },
  {
   "cell_type": "markdown",
   "metadata": {},
   "source": [
    "### Table 3"
   ]
  },
  {
   "cell_type": "code",
   "execution_count": 9,
   "metadata": {
    "scrolled": true
   },
   "outputs": [
    {
     "name": "stdout",
     "output_type": "stream",
     "text": [
      "Optimization terminated successfully.\n",
      "         Current function value: 0.523922\n",
      "         Iterations 5\n",
      "                          Probit Regression Results                           \n",
      "==============================================================================\n",
      "Dep. Variable:                    Dec   No. Observations:                 1778\n",
      "Model:                         Probit   Df Residuals:                     1776\n",
      "Method:                           MLE   Df Model:                            1\n",
      "Date:                Thu, 06 Aug 2020   Pseudo R-squ.:               1.673e-05\n",
      "Time:                        23:31:35   Log-Likelihood:                -931.53\n",
      "converged:                       True   LL-Null:                       -931.55\n",
      "Covariance Type:            nonrobust   LLR p-value:                    0.8599\n",
      "==============================================================================\n",
      "                 coef    std err          z      P>|z|      [0.025      0.975]\n",
      "------------------------------------------------------------------------------\n",
      "Intercept      0.7745      0.046     16.789      0.000       0.684       0.865\n",
      "Markt          0.0118      0.067      0.177      0.860      -0.119       0.142\n",
      "==============================================================================\n"
     ]
    }
   ],
   "source": [
    "aux.Reg31()"
   ]
  },
  {
   "cell_type": "code",
   "execution_count": 10,
   "metadata": {},
   "outputs": [
    {
     "name": "stdout",
     "output_type": "stream",
     "text": [
      "Warning: Maximum number of iterations has been exceeded.\n",
      "         Current function value: 0.498874\n",
      "         Iterations: 35\n",
      "                          Probit Regression Results                           \n",
      "==============================================================================\n",
      "Dep. Variable:                    Dec   No. Observations:                 1776\n",
      "Model:                         Probit   Df Residuals:                     1774\n",
      "Method:                           MLE   Df Model:                            1\n",
      "Date:                Thu, 06 Aug 2020   Pseudo R-squ.:                 0.04839\n",
      "Time:                        23:31:35   Log-Likelihood:                -886.00\n",
      "converged:                      False   LL-Null:                       -931.06\n",
      "Covariance Type:            nonrobust   LLR p-value:                 2.248e-21\n",
      "==============================================================================\n",
      "                 coef    std err          z      P>|z|      [0.025      0.975]\n",
      "------------------------------------------------------------------------------\n",
      "Intercept      0.7017      0.034     20.475      0.000       0.635       0.769\n",
      "Amazon         6.1862   6494.918      0.001      0.999   -1.27e+04    1.27e+04\n",
      "==============================================================================\n"
     ]
    },
    {
     "name": "stderr",
     "output_type": "stream",
     "text": [
      "C:\\ProgramData\\Anaconda3\\lib\\site-packages\\statsmodels\\base\\model.py:568: ConvergenceWarning: Maximum Likelihood optimization failed to converge. Check mle_retvals\n",
      "  \"Check mle_retvals\", ConvergenceWarning)\n"
     ]
    }
   ],
   "source": [
    "y, X = aux.dmatrices('Dec ~ Amazon', aux.df, return_type = 'dataframe')\n",
    "probit = aux.sm.Probit(y, X, missing='drop')\n",
    "res=probit.fit()\n",
    "print(res.summary())"
   ]
  },
  {
   "cell_type": "code",
   "execution_count": 11,
   "metadata": {
    "scrolled": false
   },
   "outputs": [
    {
     "name": "stdout",
     "output_type": "stream",
     "text": [
      "Optimization terminated successfully.\n",
      "         Current function value: 0.473375\n",
      "         Iterations 6\n",
      "                          Probit Regression Results                           \n",
      "==============================================================================\n",
      "Dep. Variable:                    Dec   No. Observations:                 1589\n",
      "Model:                         Probit   Df Residuals:                     1583\n",
      "Method:                           MLE   Df Model:                            5\n",
      "Date:                Thu, 06 Aug 2020   Pseudo R-squ.:                  0.1428\n",
      "Time:                        23:31:35   Log-Likelihood:                -752.19\n",
      "converged:                       True   LL-Null:                       -877.55\n",
      "Covariance Type:            nonrobust   LLR p-value:                 3.859e-52\n",
      "==============================================================================\n",
      "                 coef    std err          z      P>|z|      [0.025      0.975]\n",
      "------------------------------------------------------------------------------\n",
      "Intercept     -0.7296      0.137     -5.313      0.000      -0.999      -0.460\n",
      "Markt         -0.0084      0.074     -0.114      0.909      -0.154       0.137\n",
      "Altru_1        0.1874      0.018     10.341      0.000       0.152       0.223\n",
      "Altru_2        0.0016      0.000      6.143      0.000       0.001       0.002\n",
      "Geld          -0.0201      0.024     -0.835      0.403      -0.067       0.027\n",
      "Müll          -0.2174      0.112     -1.942      0.052      -0.437       0.002\n",
      "==============================================================================\n"
     ]
    }
   ],
   "source": [
    "aux.Reg32()"
   ]
  },
  {
   "cell_type": "code",
   "execution_count": 12,
   "metadata": {
    "scrolled": true
   },
   "outputs": [
    {
     "name": "stdout",
     "output_type": "stream",
     "text": [
      "Optimization terminated successfully.\n",
      "         Current function value: 0.476168\n",
      "         Iterations 6\n",
      "                          Probit Regression Results                           \n",
      "==============================================================================\n",
      "Dep. Variable:                    Dec   No. Observations:                 1603\n",
      "Model:                         Probit   Df Residuals:                     1599\n",
      "Method:                           MLE   Df Model:                            3\n",
      "Date:                Thu, 06 Aug 2020   Pseudo R-squ.:                  0.1385\n",
      "Time:                        23:31:35   Log-Likelihood:                -763.30\n",
      "converged:                       True   LL-Null:                       -886.00\n",
      "Covariance Type:            nonrobust   LLR p-value:                 6.447e-53\n",
      "==============================================================================\n",
      "                 coef    std err          z      P>|z|      [0.025      0.975]\n",
      "------------------------------------------------------------------------------\n",
      "Intercept     -0.8066      0.125     -6.474      0.000      -1.051      -0.562\n",
      "Markt         -0.0048      0.073     -0.065      0.948      -0.149       0.139\n",
      "Altru_1        0.1887      0.018     10.488      0.000       0.153       0.224\n",
      "Altru_2        0.0015      0.000      5.898      0.000       0.001       0.002\n",
      "==============================================================================\n"
     ]
    }
   ],
   "source": [
    "aux.Reg33()"
   ]
  },
  {
   "cell_type": "markdown",
   "metadata": {},
   "source": [
    "### Table 4"
   ]
  },
  {
   "cell_type": "code",
   "execution_count": 13,
   "metadata": {
    "scrolled": true
   },
   "outputs": [
    {
     "name": "stdout",
     "output_type": "stream",
     "text": [
      "Optimization terminated successfully.\n",
      "         Current function value: 0.516042\n",
      "         Iterations 5\n",
      "                          Probit Regression Results                           \n",
      "==============================================================================\n",
      "Dep. Variable:                    Dec   No. Observations:                 1778\n",
      "Model:                         Probit   Df Residuals:                     1774\n",
      "Method:                           MLE   Df Model:                            3\n",
      "Date:                Thu, 06 Aug 2020   Pseudo R-squ.:                 0.01506\n",
      "Time:                        23:31:35   Log-Likelihood:                -917.52\n",
      "converged:                       True   LL-Null:                       -931.55\n",
      "Covariance Type:            nonrobust   LLR p-value:                 3.540e-06\n",
      "====================================================================================\n",
      "                       coef    std err          z      P>|z|      [0.025      0.975]\n",
      "------------------------------------------------------------------------------------\n",
      "Intercept            1.0994      0.161      6.846      0.000       0.785       1.414\n",
      "FMIS_Index          -0.0661      0.031     -2.124      0.034      -0.127      -0.005\n",
      "Markt                0.4679      0.235      1.988      0.047       0.007       0.929\n",
      "FMIS_Index:Markt    -0.0878      0.045     -1.962      0.050      -0.175   -7.39e-05\n",
      "====================================================================================\n"
     ]
    }
   ],
   "source": [
    "aux.Reg41()"
   ]
  },
  {
   "cell_type": "code",
   "execution_count": 14,
   "metadata": {
    "scrolled": true
   },
   "outputs": [
    {
     "name": "stdout",
     "output_type": "stream",
     "text": [
      "Optimization terminated successfully.\n",
      "         Current function value: 0.545556\n",
      "         Iterations 5\n",
      "                          Probit Regression Results                           \n",
      "==============================================================================\n",
      "Dep. Variable:                    Dec   No. Observations:                 1603\n",
      "Model:                         Probit   Df Residuals:                     1599\n",
      "Method:                           MLE   Df Model:                            3\n",
      "Date:                Thu, 06 Aug 2020   Pseudo R-squ.:                 0.01295\n",
      "Time:                        23:31:35   Log-Likelihood:                -874.53\n",
      "converged:                       True   LL-Null:                       -886.00\n",
      "Covariance Type:            nonrobust   LLR p-value:                 4.143e-05\n",
      "====================================================================================\n",
      "                       coef    std err          z      P>|z|      [0.025      0.975]\n",
      "------------------------------------------------------------------------------------\n",
      "Intercept            1.0153      0.165      6.162      0.000       0.692       1.338\n",
      "FMIS_Index          -0.0642      0.032     -2.013      0.044      -0.127      -0.002\n",
      "Markt                0.4086      0.241      1.694      0.090      -0.064       0.881\n",
      "FMIS_Index:Markt    -0.0766      0.046     -1.675      0.094      -0.166       0.013\n",
      "====================================================================================\n"
     ]
    }
   ],
   "source": [
    "aux.Reg42()"
   ]
  },
  {
   "cell_type": "code",
   "execution_count": 15,
   "metadata": {},
   "outputs": [
    {
     "name": "stdout",
     "output_type": "stream",
     "text": [
      "Optimization terminated successfully.\n",
      "         Current function value: 0.471750\n",
      "         Iterations 6\n",
      "                          Probit Regression Results                           \n",
      "==============================================================================\n",
      "Dep. Variable:                    Dec   No. Observations:                 1603\n",
      "Model:                         Probit   Df Residuals:                     1597\n",
      "Method:                           MLE   Df Model:                            5\n",
      "Date:                Thu, 06 Aug 2020   Pseudo R-squ.:                  0.1465\n",
      "Time:                        23:31:35   Log-Likelihood:                -756.22\n",
      "converged:                       True   LL-Null:                       -886.00\n",
      "Covariance Type:            nonrobust   LLR p-value:                 4.859e-54\n",
      "====================================================================================\n",
      "                       coef    std err          z      P>|z|      [0.025      0.975]\n",
      "------------------------------------------------------------------------------------\n",
      "Intercept           -0.5598      0.211     -2.654      0.008      -0.973      -0.146\n",
      "FMIS_Index          -0.0463      0.034     -1.351      0.177      -0.113       0.021\n",
      "Markt                0.3978      0.260      1.530      0.126      -0.112       0.908\n",
      "FMIS_Index:Markt    -0.0770      0.049     -1.562      0.118      -0.174       0.020\n",
      "Altru_1              0.1858      0.018     10.244      0.000       0.150       0.221\n",
      "Altru_2              0.0015      0.000      5.898      0.000       0.001       0.002\n",
      "====================================================================================\n"
     ]
    }
   ],
   "source": [
    "aux.Reg43()"
   ]
  },
  {
   "cell_type": "code",
   "execution_count": 16,
   "metadata": {
    "scrolled": true
   },
   "outputs": [
    {
     "name": "stdout",
     "output_type": "stream",
     "text": [
      "Optimization terminated successfully.\n",
      "         Current function value: 0.549738\n",
      "         Iterations 5\n",
      "                          Probit Regression Results                           \n",
      "==============================================================================\n",
      "Dep. Variable:                    Dec   No. Observations:                 1485\n",
      "Model:                         Probit   Df Residuals:                     1480\n",
      "Method:                           MLE   Df Model:                            4\n",
      "Date:                Thu, 06 Aug 2020   Pseudo R-squ.:                0.006060\n",
      "Time:                        23:31:35   Log-Likelihood:                -816.36\n",
      "converged:                       True   LL-Null:                       -821.34\n",
      "Covariance Type:            nonrobust   LLR p-value:                   0.04120\n",
      "===============================================================================\n",
      "                  coef    std err          z      P>|z|      [0.025      0.975]\n",
      "-------------------------------------------------------------------------------\n",
      "Intercept       0.7316      0.076      9.669      0.000       0.583       0.880\n",
      "WiStu          -0.0340      0.128     -0.266      0.791      -0.285       0.217\n",
      "Markt           0.0843      0.079      1.064      0.288      -0.071       0.240\n",
      "WiStu:Markt    -0.3697      0.183     -2.019      0.044      -0.729      -0.011\n",
      "Student        -0.0472      0.077     -0.611      0.541      -0.199       0.104\n",
      "===============================================================================\n"
     ]
    }
   ],
   "source": [
    "y, X = aux.dmatrices('Dec ~ WiStu*Markt + Student', aux.df_ama, return_type = 'dataframe')\n",
    "probit = aux.sm.Probit(y, X, missing='drop')\n",
    "res=probit.fit()\n",
    "print(res.summary()) "
   ]
  },
  {
   "cell_type": "code",
   "execution_count": 17,
   "metadata": {
    "scrolled": false
   },
   "outputs": [
    {
     "name": "stdout",
     "output_type": "stream",
     "text": [
      "Optimization terminated successfully.\n",
      "         Current function value: 0.549738\n",
      "         Iterations 5\n",
      "                          Probit Regression Results                           \n",
      "==============================================================================\n",
      "Dep. Variable:                    Dec   No. Observations:                 1485\n",
      "Model:                         Probit   Df Residuals:                     1480\n",
      "Method:                           MLE   Df Model:                            4\n",
      "Date:                Thu, 06 Aug 2020   Pseudo R-squ.:                0.006060\n",
      "Time:                        23:31:36   Log-Likelihood:                -816.36\n",
      "converged:                       True   LL-Null:                       -821.34\n",
      "Covariance Type:            nonrobust   LLR p-value:                   0.04120\n",
      "===============================================================================\n",
      "                  coef    std err          z      P>|z|      [0.025      0.975]\n",
      "-------------------------------------------------------------------------------\n",
      "Intercept       0.7316      0.076      9.669      0.000       0.583       0.880\n",
      "WiStu          -0.0340      0.128     -0.266      0.791      -0.285       0.217\n",
      "Markt           0.0843      0.079      1.064      0.288      -0.071       0.240\n",
      "WiStu:Markt    -0.3697      0.183     -2.019      0.044      -0.729      -0.011\n",
      "Student        -0.0472      0.077     -0.611      0.541      -0.199       0.104\n",
      "===============================================================================\n"
     ]
    }
   ],
   "source": [
    "aux.Reg44()"
   ]
  },
  {
   "cell_type": "code",
   "execution_count": 23,
   "metadata": {},
   "outputs": [
    {
     "name": "stdout",
     "output_type": "stream",
     "text": [
      "5.348717948717951\n",
      "4.932938240798508\n"
     ]
    }
   ],
   "source": [
    "print(aux.df_ama[aux.df_ama['WiStu']==1]['FMIS_Index'].mean())\n",
    "print(aux.df_ama['FMIS_Index'].mean())"
   ]
  },
  {
   "cell_type": "code",
   "execution_count": null,
   "metadata": {},
   "outputs": [],
   "source": [
    "aux.Reg45()"
   ]
  },
  {
   "cell_type": "code",
   "execution_count": null,
   "metadata": {},
   "outputs": [],
   "source": [
    "aux.Reg46()"
   ]
  },
  {
   "cell_type": "markdown",
   "metadata": {},
   "source": [
    "### Figure 2"
   ]
  },
  {
   "cell_type": "code",
   "execution_count": null,
   "metadata": {},
   "outputs": [],
   "source": [
    "aux.FMIS_plot()"
   ]
  },
  {
   "cell_type": "code",
   "execution_count": null,
   "metadata": {
    "scrolled": false
   },
   "outputs": [],
   "source": [
    "aux.WiStu_plot()"
   ]
  },
  {
   "cell_type": "markdown",
   "metadata": {},
   "source": [
    "## Results -  Personal Characteristics\n",
    "----"
   ]
  },
  {
   "cell_type": "code",
   "execution_count": null,
   "metadata": {
    "scrolled": true
   },
   "outputs": [],
   "source": [
    "aux.Reg51()"
   ]
  },
  {
   "cell_type": "code",
   "execution_count": null,
   "metadata": {
    "scrolled": false
   },
   "outputs": [],
   "source": [
    "aux.Reg52()"
   ]
  },
  {
   "cell_type": "code",
   "execution_count": null,
   "metadata": {},
   "outputs": [],
   "source": [
    "y, X = aux.dmatrices('Dec ~ Altru_1 + FMIS_Index + pol_rechts + Gespendet + Geld + weiblich + Alter + Selbst + Sozial + Marktberuf + Akademiker ', aux.df_Markt, return_type = 'dataframe')\n",
    "probit = aux.sm.Probit(y, X, missing='drop')\n",
    "res=probit.fit()\n",
    "print(res.summary())"
   ]
  },
  {
   "cell_type": "code",
   "execution_count": null,
   "metadata": {},
   "outputs": [],
   "source": [
    "aux.Reg53()"
   ]
  },
  {
   "cell_type": "markdown",
   "metadata": {},
   "source": [
    "## 4. Useful Stuff"
   ]
  },
  {
   "cell_type": "markdown",
   "metadata": {},
   "source": [
    "------------- Keep this!!! Market Framing Effect for higher FMIS-Index! -------------------"
   ]
  },
  {
   "cell_type": "code",
   "execution_count": null,
   "metadata": {},
   "outputs": [],
   "source": [
    "y, X = aux.dmatrices('Dec ~ Altru_1 + Altru_2 + FMIS_Index + weiblich + Geld + Selbst + Sozial + Marktberuf + Student + WiStu + Akademiker + Geld + Markt + Marktgeschehen', aux.df_ama, return_type = 'dataframe')\n",
    "probit = aux.sm.Probit(y, X, missing='drop')\n",
    "res=probit.fit()\n",
    "print(res.summary())"
   ]
  },
  {
   "cell_type": "code",
   "execution_count": null,
   "metadata": {
    "scrolled": false
   },
   "outputs": [],
   "source": [
    "#------------------Get predicted values of simple regression-----------------\n",
    "y, X = aux.dmatrices('Dec ~ FMIS_Index*Markt', aux.df_ama, return_type = 'dataframe')\n",
    "probit = aux.sm.Probit(y, X, missing='drop')\n",
    "res=probit.fit()\n",
    "df_predict=aux.pd.DataFrame(res.predict(X),columns=['Predictions'])\n",
    "df_predict[['Dec', 'FMIS_Index', 'Markt']]=aux.df[['Dec', 'FMIS_Index', 'Markt']]\n",
    "#------------------Regression with included Predictions------------------------\n",
    "y, X = aux.dmatrices('Dec ~ FMIS_Index*Markt + Predictions:Markt + Predictions:FMIS_Index', df_predict, return_type = 'dataframe')\n",
    "probit = aux.sm.Probit(y, X, missing='drop')\n",
    "res_predict=probit.fit()\n",
    "print(res_predict.summary())\n",
    "hypo_hsced = '(Predictions:Markt = 0, Predictions:FMIS_Index = 0)'\n",
    "wald_hsced = res_predict.wald_test(hypo_hsced)\n",
    "print(wald_hsced)"
   ]
  },
  {
   "cell_type": "code",
   "execution_count": null,
   "metadata": {},
   "outputs": [],
   "source": [
    "#------------------Get predicted values of simple regression-----------------\n",
    "#y, X = aux.dmatrices('Dec ~ log_FMIS*Markt', aux.df, return_type = 'dataframe')\n",
    "#probit = aux.sm.Probit(y, X, missing='drop')\n",
    "#res=probit.fit()\n",
    "#df_predict=aux.pd.DataFrame(res.predict(X),columns=['Predictions'])\n",
    "#df_predict[['Dec', 'log_FMIS', 'Markt']]=aux.df[['Dec', 'log_FMIS', 'Markt']]\n",
    "#------------------Regression with included Predictions------------------------\n",
    "#y, X = aux.dmatrices('Dec ~ log_FMIS*Markt + Predictions:log_FMIS', df_predict, return_type = 'dataframe')\n",
    "#probit = aux.sm.Probit(y, X, missing='drop')\n",
    "#res_predict=probit.fit()\n",
    "#print(res_predict.summary())\n",
    "#hypo_hsced = '(Predictions:log_FMIS = 0)'\n",
    "#wald_hsced = res_predict.wald_test(hypo_hsced)\n",
    "#print(wald_hsced)"
   ]
  },
  {
   "cell_type": "markdown",
   "metadata": {},
   "source": [
    "https://www.statalist.org/forums/forum/general-stata-discussion/general/1292180-test-for-heteroskedasticity-in-logit-probit-models  \n",
    "Davidson and MacKinnon (1984) "
   ]
  },
  {
   "cell_type": "code",
   "execution_count": null,
   "metadata": {
    "scrolled": false
   },
   "outputs": [],
   "source": [
    "testda= aux.pd.DataFrame([[1,2,5], [2,1,2], ['4','1','7']])\n",
    "testda"
   ]
  },
  {
   "cell_type": "code",
   "execution_count": null,
   "metadata": {},
   "outputs": [],
   "source": [
    "test_df=aux.df.dropna(subset=['weiblich'])"
   ]
  },
  {
   "cell_type": "code",
   "execution_count": null,
   "metadata": {},
   "outputs": [],
   "source": [
    "type(aux.df['Abschluss'])"
   ]
  },
  {
   "cell_type": "code",
   "execution_count": null,
   "metadata": {
    "scrolled": true
   },
   "outputs": [],
   "source": [
    "fig, ax = aux.plt.subplots()\n",
    "aux.sns.distplot(aux.df['Altru_2'], bins=50, color=\"g\", ax=ax)\n",
    "aux.plt.show()"
   ]
  },
  {
   "cell_type": "code",
   "execution_count": null,
   "metadata": {},
   "outputs": [],
   "source": [
    "aux.df['FMIS_Index'].plot.density()"
   ]
  },
  {
   "cell_type": "code",
   "execution_count": null,
   "metadata": {
    "scrolled": true
   },
   "outputs": [],
   "source": [
    "y, X = aux.dmatrices('Dec ~ Markt', aux.df_ama, return_type = 'dataframe')\n",
    "probit = aux.sm.Probit(y, X, missing='raise')\n",
    "res=probit.fit()\n",
    "print(res.summary2())\n",
    "print(res.params)\n",
    "print(res.bse)\n",
    "print(res.conf_int(alpha=0.1, cols=None))\n",
    "print(res.pvalues)"
   ]
  }
 ],
 "metadata": {
  "kernelspec": {
   "display_name": "Python 3",
   "language": "python",
   "name": "python3"
  },
  "language_info": {
   "codemirror_mode": {
    "name": "ipython",
    "version": 3
   },
   "file_extension": ".py",
   "mimetype": "text/x-python",
   "name": "python",
   "nbconvert_exporter": "python",
   "pygments_lexer": "ipython3",
   "version": "3.7.7"
  }
 },
 "nbformat": 4,
 "nbformat_minor": 2
}
